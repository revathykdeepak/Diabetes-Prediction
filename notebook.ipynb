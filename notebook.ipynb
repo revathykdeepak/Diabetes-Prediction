{
 "cells": [
  {
   "cell_type": "code",
   "execution_count": 10,
   "id": "c7b8f9bc",
   "metadata": {},
   "outputs": [],
   "source": [
    "import pandas as pd\n",
    "import numpy as np\n",
    "\n",
    "import matplotlib.pyplot as plt\n",
    "import seaborn as sns\n",
    "# to show the plots in notebook\n",
    "%matplotlib inline "
   ]
  },
  {
   "cell_type": "markdown",
   "id": "e450781e",
   "metadata": {},
   "source": [
    "# Data Preperation"
   ]
  },
  {
   "cell_type": "markdown",
   "id": "e1c7a553",
   "metadata": {},
   "source": [
    "Most of data preperation and cleaning has already been done by creator. I am just trying to understand data"
   ]
  },
  {
   "cell_type": "code",
   "execution_count": 142,
   "id": "0eb1a304",
   "metadata": {},
   "outputs": [],
   "source": [
    "df = pd.read_csv('diabetes_binary_5050split_BRFSS2015.csv')"
   ]
  },
  {
   "cell_type": "code",
   "execution_count": 143,
   "id": "067a3fd0",
   "metadata": {},
   "outputs": [
    {
     "data": {
      "text/html": [
       "<div>\n",
       "<style scoped>\n",
       "    .dataframe tbody tr th:only-of-type {\n",
       "        vertical-align: middle;\n",
       "    }\n",
       "\n",
       "    .dataframe tbody tr th {\n",
       "        vertical-align: top;\n",
       "    }\n",
       "\n",
       "    .dataframe thead th {\n",
       "        text-align: right;\n",
       "    }\n",
       "</style>\n",
       "<table border=\"1\" class=\"dataframe\">\n",
       "  <thead>\n",
       "    <tr style=\"text-align: right;\">\n",
       "      <th></th>\n",
       "      <th>Diabetes_binary</th>\n",
       "      <th>HighBP</th>\n",
       "      <th>HighChol</th>\n",
       "      <th>CholCheck</th>\n",
       "      <th>BMI</th>\n",
       "      <th>Smoker</th>\n",
       "      <th>Stroke</th>\n",
       "      <th>HeartDiseaseorAttack</th>\n",
       "      <th>PhysActivity</th>\n",
       "      <th>Fruits</th>\n",
       "      <th>...</th>\n",
       "      <th>AnyHealthcare</th>\n",
       "      <th>NoDocbcCost</th>\n",
       "      <th>GenHlth</th>\n",
       "      <th>MentHlth</th>\n",
       "      <th>PhysHlth</th>\n",
       "      <th>DiffWalk</th>\n",
       "      <th>Sex</th>\n",
       "      <th>Age</th>\n",
       "      <th>Education</th>\n",
       "      <th>Income</th>\n",
       "    </tr>\n",
       "  </thead>\n",
       "  <tbody>\n",
       "    <tr>\n",
       "      <th>0</th>\n",
       "      <td>0.0</td>\n",
       "      <td>1.0</td>\n",
       "      <td>0.0</td>\n",
       "      <td>1.0</td>\n",
       "      <td>26.0</td>\n",
       "      <td>0.0</td>\n",
       "      <td>0.0</td>\n",
       "      <td>0.0</td>\n",
       "      <td>1.0</td>\n",
       "      <td>0.0</td>\n",
       "      <td>...</td>\n",
       "      <td>1.0</td>\n",
       "      <td>0.0</td>\n",
       "      <td>3.0</td>\n",
       "      <td>5.0</td>\n",
       "      <td>30.0</td>\n",
       "      <td>0.0</td>\n",
       "      <td>1.0</td>\n",
       "      <td>4.0</td>\n",
       "      <td>6.0</td>\n",
       "      <td>8.0</td>\n",
       "    </tr>\n",
       "    <tr>\n",
       "      <th>1</th>\n",
       "      <td>0.0</td>\n",
       "      <td>1.0</td>\n",
       "      <td>1.0</td>\n",
       "      <td>1.0</td>\n",
       "      <td>26.0</td>\n",
       "      <td>1.0</td>\n",
       "      <td>1.0</td>\n",
       "      <td>0.0</td>\n",
       "      <td>0.0</td>\n",
       "      <td>1.0</td>\n",
       "      <td>...</td>\n",
       "      <td>1.0</td>\n",
       "      <td>0.0</td>\n",
       "      <td>3.0</td>\n",
       "      <td>0.0</td>\n",
       "      <td>0.0</td>\n",
       "      <td>0.0</td>\n",
       "      <td>1.0</td>\n",
       "      <td>12.0</td>\n",
       "      <td>6.0</td>\n",
       "      <td>8.0</td>\n",
       "    </tr>\n",
       "    <tr>\n",
       "      <th>2</th>\n",
       "      <td>0.0</td>\n",
       "      <td>0.0</td>\n",
       "      <td>0.0</td>\n",
       "      <td>1.0</td>\n",
       "      <td>26.0</td>\n",
       "      <td>0.0</td>\n",
       "      <td>0.0</td>\n",
       "      <td>0.0</td>\n",
       "      <td>1.0</td>\n",
       "      <td>1.0</td>\n",
       "      <td>...</td>\n",
       "      <td>1.0</td>\n",
       "      <td>0.0</td>\n",
       "      <td>1.0</td>\n",
       "      <td>0.0</td>\n",
       "      <td>10.0</td>\n",
       "      <td>0.0</td>\n",
       "      <td>1.0</td>\n",
       "      <td>13.0</td>\n",
       "      <td>6.0</td>\n",
       "      <td>8.0</td>\n",
       "    </tr>\n",
       "    <tr>\n",
       "      <th>3</th>\n",
       "      <td>0.0</td>\n",
       "      <td>1.0</td>\n",
       "      <td>1.0</td>\n",
       "      <td>1.0</td>\n",
       "      <td>28.0</td>\n",
       "      <td>1.0</td>\n",
       "      <td>0.0</td>\n",
       "      <td>0.0</td>\n",
       "      <td>1.0</td>\n",
       "      <td>1.0</td>\n",
       "      <td>...</td>\n",
       "      <td>1.0</td>\n",
       "      <td>0.0</td>\n",
       "      <td>3.0</td>\n",
       "      <td>0.0</td>\n",
       "      <td>3.0</td>\n",
       "      <td>0.0</td>\n",
       "      <td>1.0</td>\n",
       "      <td>11.0</td>\n",
       "      <td>6.0</td>\n",
       "      <td>8.0</td>\n",
       "    </tr>\n",
       "    <tr>\n",
       "      <th>4</th>\n",
       "      <td>0.0</td>\n",
       "      <td>0.0</td>\n",
       "      <td>0.0</td>\n",
       "      <td>1.0</td>\n",
       "      <td>29.0</td>\n",
       "      <td>1.0</td>\n",
       "      <td>0.0</td>\n",
       "      <td>0.0</td>\n",
       "      <td>1.0</td>\n",
       "      <td>1.0</td>\n",
       "      <td>...</td>\n",
       "      <td>1.0</td>\n",
       "      <td>0.0</td>\n",
       "      <td>2.0</td>\n",
       "      <td>0.0</td>\n",
       "      <td>0.0</td>\n",
       "      <td>0.0</td>\n",
       "      <td>0.0</td>\n",
       "      <td>8.0</td>\n",
       "      <td>5.0</td>\n",
       "      <td>8.0</td>\n",
       "    </tr>\n",
       "  </tbody>\n",
       "</table>\n",
       "<p>5 rows × 22 columns</p>\n",
       "</div>"
      ],
      "text/plain": [
       "   Diabetes_binary  HighBP  HighChol  CholCheck   BMI  Smoker  Stroke  \\\n",
       "0              0.0     1.0       0.0        1.0  26.0     0.0     0.0   \n",
       "1              0.0     1.0       1.0        1.0  26.0     1.0     1.0   \n",
       "2              0.0     0.0       0.0        1.0  26.0     0.0     0.0   \n",
       "3              0.0     1.0       1.0        1.0  28.0     1.0     0.0   \n",
       "4              0.0     0.0       0.0        1.0  29.0     1.0     0.0   \n",
       "\n",
       "   HeartDiseaseorAttack  PhysActivity  Fruits  ...  AnyHealthcare  \\\n",
       "0                   0.0           1.0     0.0  ...            1.0   \n",
       "1                   0.0           0.0     1.0  ...            1.0   \n",
       "2                   0.0           1.0     1.0  ...            1.0   \n",
       "3                   0.0           1.0     1.0  ...            1.0   \n",
       "4                   0.0           1.0     1.0  ...            1.0   \n",
       "\n",
       "   NoDocbcCost  GenHlth  MentHlth  PhysHlth  DiffWalk  Sex   Age  Education  \\\n",
       "0          0.0      3.0       5.0      30.0       0.0  1.0   4.0        6.0   \n",
       "1          0.0      3.0       0.0       0.0       0.0  1.0  12.0        6.0   \n",
       "2          0.0      1.0       0.0      10.0       0.0  1.0  13.0        6.0   \n",
       "3          0.0      3.0       0.0       3.0       0.0  1.0  11.0        6.0   \n",
       "4          0.0      2.0       0.0       0.0       0.0  0.0   8.0        5.0   \n",
       "\n",
       "   Income  \n",
       "0     8.0  \n",
       "1     8.0  \n",
       "2     8.0  \n",
       "3     8.0  \n",
       "4     8.0  \n",
       "\n",
       "[5 rows x 22 columns]"
      ]
     },
     "execution_count": 143,
     "metadata": {},
     "output_type": "execute_result"
    }
   ],
   "source": [
    "df.head()"
   ]
  },
  {
   "cell_type": "code",
   "execution_count": 144,
   "id": "32bd879d",
   "metadata": {},
   "outputs": [
    {
     "data": {
      "text/plain": [
       "Diabetes_binary         float64\n",
       "HighBP                  float64\n",
       "HighChol                float64\n",
       "CholCheck               float64\n",
       "BMI                     float64\n",
       "Smoker                  float64\n",
       "Stroke                  float64\n",
       "HeartDiseaseorAttack    float64\n",
       "PhysActivity            float64\n",
       "Fruits                  float64\n",
       "Veggies                 float64\n",
       "HvyAlcoholConsump       float64\n",
       "AnyHealthcare           float64\n",
       "NoDocbcCost             float64\n",
       "GenHlth                 float64\n",
       "MentHlth                float64\n",
       "PhysHlth                float64\n",
       "DiffWalk                float64\n",
       "Sex                     float64\n",
       "Age                     float64\n",
       "Education               float64\n",
       "Income                  float64\n",
       "dtype: object"
      ]
     },
     "execution_count": 144,
     "metadata": {},
     "output_type": "execute_result"
    }
   ],
   "source": [
    "df.dtypes"
   ]
  },
  {
   "cell_type": "code",
   "execution_count": 145,
   "id": "800f2f3b",
   "metadata": {},
   "outputs": [
    {
     "data": {
      "text/plain": [
       "Diabetes_binary         0\n",
       "HighBP                  0\n",
       "HighChol                0\n",
       "CholCheck               0\n",
       "BMI                     0\n",
       "Smoker                  0\n",
       "Stroke                  0\n",
       "HeartDiseaseorAttack    0\n",
       "PhysActivity            0\n",
       "Fruits                  0\n",
       "Veggies                 0\n",
       "HvyAlcoholConsump       0\n",
       "AnyHealthcare           0\n",
       "NoDocbcCost             0\n",
       "GenHlth                 0\n",
       "MentHlth                0\n",
       "PhysHlth                0\n",
       "DiffWalk                0\n",
       "Sex                     0\n",
       "Age                     0\n",
       "Education               0\n",
       "Income                  0\n",
       "dtype: int64"
      ]
     },
     "execution_count": 145,
     "metadata": {},
     "output_type": "execute_result"
    }
   ],
   "source": [
    "df.isna().sum()"
   ]
  },
  {
   "cell_type": "code",
   "execution_count": 146,
   "id": "a491c8df",
   "metadata": {},
   "outputs": [
    {
     "data": {
      "text/plain": [
       "Diabetes_binary\n",
       "0.0    35346\n",
       "1.0    35346\n",
       "Name: HighBP, dtype: int64"
      ]
     },
     "execution_count": 146,
     "metadata": {},
     "output_type": "execute_result"
    }
   ],
   "source": [
    "#since no columns have na , count of any of them gives total count\n",
    "df.groupby('Diabetes_binary')['HighBP'].count()"
   ]
  },
  {
   "cell_type": "code",
   "execution_count": 147,
   "id": "41916176",
   "metadata": {},
   "outputs": [
    {
     "name": "stdout",
     "output_type": "stream",
     "text": [
      "Diabetes_binary\n",
      "count    70692.000000\n",
      "mean         0.500000\n",
      "std          0.500004\n",
      "min          0.000000\n",
      "25%          0.000000\n",
      "50%          0.500000\n",
      "75%          1.000000\n",
      "max          1.000000\n",
      "Name: Diabetes_binary, dtype: float64\n",
      "null count: 0\n",
      "unique values: 2\n",
      "\n",
      "HighBP\n",
      "count    70692.000000\n",
      "mean         0.563458\n",
      "std          0.495960\n",
      "min          0.000000\n",
      "25%          0.000000\n",
      "50%          1.000000\n",
      "75%          1.000000\n",
      "max          1.000000\n",
      "Name: HighBP, dtype: float64\n",
      "null count: 0\n",
      "unique values: 2\n",
      "\n",
      "HighChol\n",
      "count    70692.000000\n",
      "mean         0.525703\n",
      "std          0.499342\n",
      "min          0.000000\n",
      "25%          0.000000\n",
      "50%          1.000000\n",
      "75%          1.000000\n",
      "max          1.000000\n",
      "Name: HighChol, dtype: float64\n",
      "null count: 0\n",
      "unique values: 2\n",
      "\n",
      "CholCheck\n",
      "count    70692.000000\n",
      "mean         0.975259\n",
      "std          0.155336\n",
      "min          0.000000\n",
      "25%          1.000000\n",
      "50%          1.000000\n",
      "75%          1.000000\n",
      "max          1.000000\n",
      "Name: CholCheck, dtype: float64\n",
      "null count: 0\n",
      "unique values: 2\n",
      "\n",
      "BMI\n",
      "count    70692.000000\n",
      "mean        29.856985\n",
      "std          7.113954\n",
      "min         12.000000\n",
      "25%         25.000000\n",
      "50%         29.000000\n",
      "75%         33.000000\n",
      "max         98.000000\n",
      "Name: BMI, dtype: float64\n",
      "null count: 0\n",
      "unique values: 80\n",
      "\n",
      "Smoker\n",
      "count    70692.000000\n",
      "mean         0.475273\n",
      "std          0.499392\n",
      "min          0.000000\n",
      "25%          0.000000\n",
      "50%          0.000000\n",
      "75%          1.000000\n",
      "max          1.000000\n",
      "Name: Smoker, dtype: float64\n",
      "null count: 0\n",
      "unique values: 2\n",
      "\n",
      "Stroke\n",
      "count    70692.000000\n",
      "mean         0.062171\n",
      "std          0.241468\n",
      "min          0.000000\n",
      "25%          0.000000\n",
      "50%          0.000000\n",
      "75%          0.000000\n",
      "max          1.000000\n",
      "Name: Stroke, dtype: float64\n",
      "null count: 0\n",
      "unique values: 2\n",
      "\n",
      "HeartDiseaseorAttack\n",
      "count    70692.000000\n",
      "mean         0.147810\n",
      "std          0.354914\n",
      "min          0.000000\n",
      "25%          0.000000\n",
      "50%          0.000000\n",
      "75%          0.000000\n",
      "max          1.000000\n",
      "Name: HeartDiseaseorAttack, dtype: float64\n",
      "null count: 0\n",
      "unique values: 2\n",
      "\n",
      "PhysActivity\n",
      "count    70692.000000\n",
      "mean         0.703036\n",
      "std          0.456924\n",
      "min          0.000000\n",
      "25%          0.000000\n",
      "50%          1.000000\n",
      "75%          1.000000\n",
      "max          1.000000\n",
      "Name: PhysActivity, dtype: float64\n",
      "null count: 0\n",
      "unique values: 2\n",
      "\n",
      "Fruits\n",
      "count    70692.000000\n",
      "mean         0.611795\n",
      "std          0.487345\n",
      "min          0.000000\n",
      "25%          0.000000\n",
      "50%          1.000000\n",
      "75%          1.000000\n",
      "max          1.000000\n",
      "Name: Fruits, dtype: float64\n",
      "null count: 0\n",
      "unique values: 2\n",
      "\n",
      "Veggies\n",
      "count    70692.000000\n",
      "mean         0.788774\n",
      "std          0.408181\n",
      "min          0.000000\n",
      "25%          1.000000\n",
      "50%          1.000000\n",
      "75%          1.000000\n",
      "max          1.000000\n",
      "Name: Veggies, dtype: float64\n",
      "null count: 0\n",
      "unique values: 2\n",
      "\n",
      "HvyAlcoholConsump\n",
      "count    70692.000000\n",
      "mean         0.042721\n",
      "std          0.202228\n",
      "min          0.000000\n",
      "25%          0.000000\n",
      "50%          0.000000\n",
      "75%          0.000000\n",
      "max          1.000000\n",
      "Name: HvyAlcoholConsump, dtype: float64\n",
      "null count: 0\n",
      "unique values: 2\n",
      "\n",
      "AnyHealthcare\n",
      "count    70692.000000\n",
      "mean         0.954960\n",
      "std          0.207394\n",
      "min          0.000000\n",
      "25%          1.000000\n",
      "50%          1.000000\n",
      "75%          1.000000\n",
      "max          1.000000\n",
      "Name: AnyHealthcare, dtype: float64\n",
      "null count: 0\n",
      "unique values: 2\n",
      "\n",
      "NoDocbcCost\n",
      "count    70692.000000\n",
      "mean         0.093914\n",
      "std          0.291712\n",
      "min          0.000000\n",
      "25%          0.000000\n",
      "50%          0.000000\n",
      "75%          0.000000\n",
      "max          1.000000\n",
      "Name: NoDocbcCost, dtype: float64\n",
      "null count: 0\n",
      "unique values: 2\n",
      "\n",
      "GenHlth\n",
      "count    70692.000000\n",
      "mean         2.837082\n",
      "std          1.113565\n",
      "min          1.000000\n",
      "25%          2.000000\n",
      "50%          3.000000\n",
      "75%          4.000000\n",
      "max          5.000000\n",
      "Name: GenHlth, dtype: float64\n",
      "null count: 0\n",
      "unique values: 5\n",
      "\n",
      "MentHlth\n",
      "count    70692.000000\n",
      "mean         3.752037\n",
      "std          8.155627\n",
      "min          0.000000\n",
      "25%          0.000000\n",
      "50%          0.000000\n",
      "75%          2.000000\n",
      "max         30.000000\n",
      "Name: MentHlth, dtype: float64\n",
      "null count: 0\n",
      "unique values: 31\n",
      "\n",
      "PhysHlth\n",
      "count    70692.000000\n",
      "mean         5.810417\n",
      "std         10.062261\n",
      "min          0.000000\n",
      "25%          0.000000\n",
      "50%          0.000000\n",
      "75%          6.000000\n",
      "max         30.000000\n",
      "Name: PhysHlth, dtype: float64\n",
      "null count: 0\n",
      "unique values: 31\n",
      "\n",
      "DiffWalk\n",
      "count    70692.000000\n",
      "mean         0.252730\n",
      "std          0.434581\n",
      "min          0.000000\n",
      "25%          0.000000\n",
      "50%          0.000000\n",
      "75%          1.000000\n",
      "max          1.000000\n",
      "Name: DiffWalk, dtype: float64\n",
      "null count: 0\n",
      "unique values: 2\n",
      "\n",
      "Sex\n",
      "count    70692.000000\n",
      "mean         0.456997\n",
      "std          0.498151\n",
      "min          0.000000\n",
      "25%          0.000000\n",
      "50%          0.000000\n",
      "75%          1.000000\n",
      "max          1.000000\n",
      "Name: Sex, dtype: float64\n",
      "null count: 0\n",
      "unique values: 2\n",
      "\n",
      "Age\n",
      "count    70692.000000\n",
      "mean         8.584055\n",
      "std          2.852153\n",
      "min          1.000000\n",
      "25%          7.000000\n",
      "50%          9.000000\n",
      "75%         11.000000\n",
      "max         13.000000\n",
      "Name: Age, dtype: float64\n",
      "null count: 0\n",
      "unique values: 13\n",
      "\n",
      "Education\n",
      "count    70692.000000\n",
      "mean         4.920953\n",
      "std          1.029081\n",
      "min          1.000000\n",
      "25%          4.000000\n",
      "50%          5.000000\n",
      "75%          6.000000\n",
      "max          6.000000\n",
      "Name: Education, dtype: float64\n",
      "null count: 0\n",
      "unique values: 6\n",
      "\n",
      "Income\n",
      "count    70692.000000\n",
      "mean         5.698311\n",
      "std          2.175196\n",
      "min          1.000000\n",
      "25%          4.000000\n",
      "50%          6.000000\n",
      "75%          8.000000\n",
      "max          8.000000\n",
      "Name: Income, dtype: float64\n",
      "null count: 0\n",
      "unique values: 8\n",
      "\n"
     ]
    }
   ],
   "source": [
    "for col in list(df.columns):\n",
    "    print(col)\n",
    "    print(df[col].describe())\n",
    "    print(\"null count: \" + str(df[col].isna().sum()))\n",
    "    print(\"unique values: \" + str(df[col].nunique()))\n",
    "    print()"
   ]
  },
  {
   "cell_type": "code",
   "execution_count": 148,
   "id": "7e168579",
   "metadata": {},
   "outputs": [
    {
     "name": "stdout",
     "output_type": "stream",
     "text": [
      "Diabetes_binary\n",
      "HighBP\n",
      "HighChol\n",
      "CholCheck\n",
      "Smoker\n",
      "Stroke\n",
      "HeartDiseaseorAttack\n",
      "PhysActivity\n",
      "Fruits\n",
      "Veggies\n",
      "HvyAlcoholConsump\n",
      "AnyHealthcare\n",
      "NoDocbcCost\n",
      "DiffWalk\n",
      "Sex\n"
     ]
    }
   ],
   "source": [
    "for col in list(df.columns):\n",
    "    if(df[col].nunique() == 2):\n",
    "        print(col)"
   ]
  },
  {
   "cell_type": "raw",
   "id": "7a337f59",
   "metadata": {},
   "source": [
    "Some special categorical/numerical features' description\n",
    "\n",
    "GenHlth\n",
    "Scale 1-5 : 1 excellent 5 poor\n",
    "\n",
    "MentHlth\n",
    "for how many days during the past 30 days was your mental health not good\n",
    "\n",
    "PhysHlth\n",
    "for how many days during the past 30 days was your physical health not good\n",
    "\n",
    "\n",
    "Age => Reported age in five-year age categories calculated variable\n",
    "1 = 18-24\n",
    "2 =  25-29\n",
    "...\n",
    "13 = 80+\n",
    "\n",
    "Education\n",
    "\n",
    "1 Never attended school or only kindergarten \n",
    "2 Grades 1 through 8 (Elementary) \n",
    "3 Grades 9 through 11 (Some high school) \n",
    "4 Grade 12 or GED (High school graduate) \n",
    "5 College 1 year to 3 years (Some college or technical school) \n",
    "6 College 4 years or more (College graduate\n",
    "\n",
    "\n",
    "Income\n",
    "1 Less than $10,000\n",
    "2 Less than $15,000 ($10,000 to less than $15,000)\n",
    "3 Less than $20,000 ($15,000 to less than $20,000)\n",
    "4 Less than $25,000 ($20,000 to less than $25,000)\n",
    "5 Less than $35,000 ($25,000 to less than $35,000)\n",
    "6 Less than $50,000 ($35,000 to less than $50,000)\n",
    "7 Less than $75,000 ($50,000 to less than $75,000)\n",
    "8 $75,000 or more\n",
    "\n",
    "Binary categorical variables:\n",
    "\n",
    "Diabetes_binary\n",
    "HighBP\n",
    "HighChol\n",
    "CholCheck\n",
    "Smoker\n",
    "Stroke\n",
    "HeartDiseaseorAttack\n",
    "PhysActivity\n",
    "Fruits\n",
    "Veggies\n",
    "HvyAlcoholConsump\n",
    "AnyHealthcare\n",
    "NoDocbcCost => couldn't go to doctore because of cost\n",
    "DiffWalk => difficulty walking\n",
    "Sex   "
   ]
  },
  {
   "cell_type": "code",
   "execution_count": 149,
   "id": "293d3386",
   "metadata": {},
   "outputs": [
    {
     "data": {
      "text/plain": [
       "BMI\n",
       "27.0    6327\n",
       "26.0    4975\n",
       "28.0    4583\n",
       "24.0    4392\n",
       "30.0    4344\n",
       "        ... \n",
       "85.0       1\n",
       "83.0       1\n",
       "80.0       1\n",
       "78.0       1\n",
       "74.0       1\n",
       "Name: count, Length: 80, dtype: int64"
      ]
     },
     "execution_count": 149,
     "metadata": {},
     "output_type": "execute_result"
    }
   ],
   "source": [
    "df.BMI.value_counts()"
   ]
  },
  {
   "cell_type": "code",
   "execution_count": 150,
   "id": "1bdddc24",
   "metadata": {},
   "outputs": [
    {
     "data": {
      "text/plain": [
       "445"
      ]
     },
     "execution_count": 150,
     "metadata": {},
     "output_type": "execute_result"
    }
   ],
   "source": [
    "#BMI greater than 40 is morbidly obese. So there could be problems with values grater than 55\n",
    "len(df[df.BMI > 55.0])"
   ]
  },
  {
   "cell_type": "code",
   "execution_count": 151,
   "id": "fc13ee73",
   "metadata": {},
   "outputs": [
    {
     "data": {
      "text/plain": [
       "(70247, 22)"
      ]
     },
     "execution_count": 151,
     "metadata": {},
     "output_type": "execute_result"
    }
   ],
   "source": [
    "#remove these values\n",
    "df = df[df.BMI <= 55.0]\n",
    "df.shape"
   ]
  },
  {
   "cell_type": "code",
   "execution_count": 152,
   "id": "858c3759",
   "metadata": {},
   "outputs": [
    {
     "data": {
      "text/plain": [
       "Diabetes_binary\n",
       "0.0    35222\n",
       "1.0    35025\n",
       "Name: HighBP, dtype: int64"
      ]
     },
     "execution_count": 152,
     "metadata": {},
     "output_type": "execute_result"
    }
   ],
   "source": [
    "df.groupby('Diabetes_binary')['HighBP'].count()"
   ]
  },
  {
   "cell_type": "code",
   "execution_count": 153,
   "id": "93a3dc0f",
   "metadata": {},
   "outputs": [
    {
     "data": {
      "text/html": [
       "<div>\n",
       "<style scoped>\n",
       "    .dataframe tbody tr th:only-of-type {\n",
       "        vertical-align: middle;\n",
       "    }\n",
       "\n",
       "    .dataframe tbody tr th {\n",
       "        vertical-align: top;\n",
       "    }\n",
       "\n",
       "    .dataframe thead th {\n",
       "        text-align: right;\n",
       "    }\n",
       "</style>\n",
       "<table border=\"1\" class=\"dataframe\">\n",
       "  <thead>\n",
       "    <tr style=\"text-align: right;\">\n",
       "      <th></th>\n",
       "      <th>Diabetes_binary</th>\n",
       "      <th>HighBP</th>\n",
       "      <th>HighChol</th>\n",
       "      <th>CholCheck</th>\n",
       "      <th>BMI</th>\n",
       "      <th>Smoker</th>\n",
       "      <th>Stroke</th>\n",
       "      <th>HeartDiseaseorAttack</th>\n",
       "      <th>PhysActivity</th>\n",
       "      <th>Fruits</th>\n",
       "      <th>...</th>\n",
       "      <th>AnyHealthcare</th>\n",
       "      <th>NoDocbcCost</th>\n",
       "      <th>GenHlth</th>\n",
       "      <th>MentHlth</th>\n",
       "      <th>PhysHlth</th>\n",
       "      <th>DiffWalk</th>\n",
       "      <th>Sex</th>\n",
       "      <th>Age</th>\n",
       "      <th>Education</th>\n",
       "      <th>Income</th>\n",
       "    </tr>\n",
       "  </thead>\n",
       "  <tbody>\n",
       "    <tr>\n",
       "      <th>602</th>\n",
       "      <td>0.0</td>\n",
       "      <td>0.0</td>\n",
       "      <td>0.0</td>\n",
       "      <td>1.0</td>\n",
       "      <td>22.0</td>\n",
       "      <td>0.0</td>\n",
       "      <td>0.0</td>\n",
       "      <td>0.0</td>\n",
       "      <td>1.0</td>\n",
       "      <td>1.0</td>\n",
       "      <td>...</td>\n",
       "      <td>1.0</td>\n",
       "      <td>0.0</td>\n",
       "      <td>1.0</td>\n",
       "      <td>0.0</td>\n",
       "      <td>0.0</td>\n",
       "      <td>0.0</td>\n",
       "      <td>0.0</td>\n",
       "      <td>6.0</td>\n",
       "      <td>6.0</td>\n",
       "      <td>8.0</td>\n",
       "    </tr>\n",
       "    <tr>\n",
       "      <th>689</th>\n",
       "      <td>0.0</td>\n",
       "      <td>0.0</td>\n",
       "      <td>0.0</td>\n",
       "      <td>1.0</td>\n",
       "      <td>26.0</td>\n",
       "      <td>0.0</td>\n",
       "      <td>0.0</td>\n",
       "      <td>0.0</td>\n",
       "      <td>1.0</td>\n",
       "      <td>1.0</td>\n",
       "      <td>...</td>\n",
       "      <td>1.0</td>\n",
       "      <td>0.0</td>\n",
       "      <td>1.0</td>\n",
       "      <td>0.0</td>\n",
       "      <td>0.0</td>\n",
       "      <td>0.0</td>\n",
       "      <td>0.0</td>\n",
       "      <td>6.0</td>\n",
       "      <td>6.0</td>\n",
       "      <td>8.0</td>\n",
       "    </tr>\n",
       "    <tr>\n",
       "      <th>891</th>\n",
       "      <td>0.0</td>\n",
       "      <td>0.0</td>\n",
       "      <td>0.0</td>\n",
       "      <td>1.0</td>\n",
       "      <td>24.0</td>\n",
       "      <td>0.0</td>\n",
       "      <td>0.0</td>\n",
       "      <td>0.0</td>\n",
       "      <td>1.0</td>\n",
       "      <td>1.0</td>\n",
       "      <td>...</td>\n",
       "      <td>1.0</td>\n",
       "      <td>0.0</td>\n",
       "      <td>1.0</td>\n",
       "      <td>0.0</td>\n",
       "      <td>0.0</td>\n",
       "      <td>0.0</td>\n",
       "      <td>0.0</td>\n",
       "      <td>6.0</td>\n",
       "      <td>6.0</td>\n",
       "      <td>8.0</td>\n",
       "    </tr>\n",
       "    <tr>\n",
       "      <th>1092</th>\n",
       "      <td>0.0</td>\n",
       "      <td>0.0</td>\n",
       "      <td>0.0</td>\n",
       "      <td>1.0</td>\n",
       "      <td>21.0</td>\n",
       "      <td>0.0</td>\n",
       "      <td>0.0</td>\n",
       "      <td>0.0</td>\n",
       "      <td>1.0</td>\n",
       "      <td>1.0</td>\n",
       "      <td>...</td>\n",
       "      <td>1.0</td>\n",
       "      <td>0.0</td>\n",
       "      <td>1.0</td>\n",
       "      <td>0.0</td>\n",
       "      <td>0.0</td>\n",
       "      <td>0.0</td>\n",
       "      <td>0.0</td>\n",
       "      <td>5.0</td>\n",
       "      <td>6.0</td>\n",
       "      <td>8.0</td>\n",
       "    </tr>\n",
       "    <tr>\n",
       "      <th>1326</th>\n",
       "      <td>0.0</td>\n",
       "      <td>1.0</td>\n",
       "      <td>0.0</td>\n",
       "      <td>1.0</td>\n",
       "      <td>29.0</td>\n",
       "      <td>0.0</td>\n",
       "      <td>0.0</td>\n",
       "      <td>0.0</td>\n",
       "      <td>1.0</td>\n",
       "      <td>0.0</td>\n",
       "      <td>...</td>\n",
       "      <td>1.0</td>\n",
       "      <td>0.0</td>\n",
       "      <td>2.0</td>\n",
       "      <td>0.0</td>\n",
       "      <td>0.0</td>\n",
       "      <td>0.0</td>\n",
       "      <td>1.0</td>\n",
       "      <td>10.0</td>\n",
       "      <td>5.0</td>\n",
       "      <td>6.0</td>\n",
       "    </tr>\n",
       "    <tr>\n",
       "      <th>...</th>\n",
       "      <td>...</td>\n",
       "      <td>...</td>\n",
       "      <td>...</td>\n",
       "      <td>...</td>\n",
       "      <td>...</td>\n",
       "      <td>...</td>\n",
       "      <td>...</td>\n",
       "      <td>...</td>\n",
       "      <td>...</td>\n",
       "      <td>...</td>\n",
       "      <td>...</td>\n",
       "      <td>...</td>\n",
       "      <td>...</td>\n",
       "      <td>...</td>\n",
       "      <td>...</td>\n",
       "      <td>...</td>\n",
       "      <td>...</td>\n",
       "      <td>...</td>\n",
       "      <td>...</td>\n",
       "      <td>...</td>\n",
       "      <td>...</td>\n",
       "    </tr>\n",
       "    <tr>\n",
       "      <th>69865</th>\n",
       "      <td>1.0</td>\n",
       "      <td>1.0</td>\n",
       "      <td>1.0</td>\n",
       "      <td>1.0</td>\n",
       "      <td>27.0</td>\n",
       "      <td>1.0</td>\n",
       "      <td>0.0</td>\n",
       "      <td>0.0</td>\n",
       "      <td>1.0</td>\n",
       "      <td>1.0</td>\n",
       "      <td>...</td>\n",
       "      <td>1.0</td>\n",
       "      <td>0.0</td>\n",
       "      <td>4.0</td>\n",
       "      <td>0.0</td>\n",
       "      <td>0.0</td>\n",
       "      <td>0.0</td>\n",
       "      <td>1.0</td>\n",
       "      <td>12.0</td>\n",
       "      <td>6.0</td>\n",
       "      <td>8.0</td>\n",
       "    </tr>\n",
       "    <tr>\n",
       "      <th>69939</th>\n",
       "      <td>1.0</td>\n",
       "      <td>1.0</td>\n",
       "      <td>1.0</td>\n",
       "      <td>1.0</td>\n",
       "      <td>27.0</td>\n",
       "      <td>1.0</td>\n",
       "      <td>0.0</td>\n",
       "      <td>0.0</td>\n",
       "      <td>1.0</td>\n",
       "      <td>1.0</td>\n",
       "      <td>...</td>\n",
       "      <td>1.0</td>\n",
       "      <td>0.0</td>\n",
       "      <td>3.0</td>\n",
       "      <td>0.0</td>\n",
       "      <td>0.0</td>\n",
       "      <td>0.0</td>\n",
       "      <td>1.0</td>\n",
       "      <td>12.0</td>\n",
       "      <td>6.0</td>\n",
       "      <td>8.0</td>\n",
       "    </tr>\n",
       "    <tr>\n",
       "      <th>70305</th>\n",
       "      <td>1.0</td>\n",
       "      <td>1.0</td>\n",
       "      <td>0.0</td>\n",
       "      <td>1.0</td>\n",
       "      <td>30.0</td>\n",
       "      <td>0.0</td>\n",
       "      <td>0.0</td>\n",
       "      <td>0.0</td>\n",
       "      <td>0.0</td>\n",
       "      <td>0.0</td>\n",
       "      <td>...</td>\n",
       "      <td>1.0</td>\n",
       "      <td>0.0</td>\n",
       "      <td>3.0</td>\n",
       "      <td>0.0</td>\n",
       "      <td>0.0</td>\n",
       "      <td>0.0</td>\n",
       "      <td>1.0</td>\n",
       "      <td>9.0</td>\n",
       "      <td>4.0</td>\n",
       "      <td>7.0</td>\n",
       "    </tr>\n",
       "    <tr>\n",
       "      <th>70591</th>\n",
       "      <td>1.0</td>\n",
       "      <td>1.0</td>\n",
       "      <td>1.0</td>\n",
       "      <td>1.0</td>\n",
       "      <td>30.0</td>\n",
       "      <td>0.0</td>\n",
       "      <td>0.0</td>\n",
       "      <td>1.0</td>\n",
       "      <td>1.0</td>\n",
       "      <td>1.0</td>\n",
       "      <td>...</td>\n",
       "      <td>1.0</td>\n",
       "      <td>0.0</td>\n",
       "      <td>2.0</td>\n",
       "      <td>0.0</td>\n",
       "      <td>0.0</td>\n",
       "      <td>0.0</td>\n",
       "      <td>1.0</td>\n",
       "      <td>10.0</td>\n",
       "      <td>6.0</td>\n",
       "      <td>8.0</td>\n",
       "    </tr>\n",
       "    <tr>\n",
       "      <th>70663</th>\n",
       "      <td>1.0</td>\n",
       "      <td>1.0</td>\n",
       "      <td>1.0</td>\n",
       "      <td>1.0</td>\n",
       "      <td>33.0</td>\n",
       "      <td>0.0</td>\n",
       "      <td>0.0</td>\n",
       "      <td>0.0</td>\n",
       "      <td>1.0</td>\n",
       "      <td>1.0</td>\n",
       "      <td>...</td>\n",
       "      <td>1.0</td>\n",
       "      <td>0.0</td>\n",
       "      <td>3.0</td>\n",
       "      <td>0.0</td>\n",
       "      <td>0.0</td>\n",
       "      <td>0.0</td>\n",
       "      <td>1.0</td>\n",
       "      <td>9.0</td>\n",
       "      <td>6.0</td>\n",
       "      <td>6.0</td>\n",
       "    </tr>\n",
       "  </tbody>\n",
       "</table>\n",
       "<p>1635 rows × 22 columns</p>\n",
       "</div>"
      ],
      "text/plain": [
       "       Diabetes_binary  HighBP  HighChol  CholCheck   BMI  Smoker  Stroke  \\\n",
       "602                0.0     0.0       0.0        1.0  22.0     0.0     0.0   \n",
       "689                0.0     0.0       0.0        1.0  26.0     0.0     0.0   \n",
       "891                0.0     0.0       0.0        1.0  24.0     0.0     0.0   \n",
       "1092               0.0     0.0       0.0        1.0  21.0     0.0     0.0   \n",
       "1326               0.0     1.0       0.0        1.0  29.0     0.0     0.0   \n",
       "...                ...     ...       ...        ...   ...     ...     ...   \n",
       "69865              1.0     1.0       1.0        1.0  27.0     1.0     0.0   \n",
       "69939              1.0     1.0       1.0        1.0  27.0     1.0     0.0   \n",
       "70305              1.0     1.0       0.0        1.0  30.0     0.0     0.0   \n",
       "70591              1.0     1.0       1.0        1.0  30.0     0.0     0.0   \n",
       "70663              1.0     1.0       1.0        1.0  33.0     0.0     0.0   \n",
       "\n",
       "       HeartDiseaseorAttack  PhysActivity  Fruits  ...  AnyHealthcare  \\\n",
       "602                     0.0           1.0     1.0  ...            1.0   \n",
       "689                     0.0           1.0     1.0  ...            1.0   \n",
       "891                     0.0           1.0     1.0  ...            1.0   \n",
       "1092                    0.0           1.0     1.0  ...            1.0   \n",
       "1326                    0.0           1.0     0.0  ...            1.0   \n",
       "...                     ...           ...     ...  ...            ...   \n",
       "69865                   0.0           1.0     1.0  ...            1.0   \n",
       "69939                   0.0           1.0     1.0  ...            1.0   \n",
       "70305                   0.0           0.0     0.0  ...            1.0   \n",
       "70591                   1.0           1.0     1.0  ...            1.0   \n",
       "70663                   0.0           1.0     1.0  ...            1.0   \n",
       "\n",
       "       NoDocbcCost  GenHlth  MentHlth  PhysHlth  DiffWalk  Sex   Age  \\\n",
       "602            0.0      1.0       0.0       0.0       0.0  0.0   6.0   \n",
       "689            0.0      1.0       0.0       0.0       0.0  0.0   6.0   \n",
       "891            0.0      1.0       0.0       0.0       0.0  0.0   6.0   \n",
       "1092           0.0      1.0       0.0       0.0       0.0  0.0   5.0   \n",
       "1326           0.0      2.0       0.0       0.0       0.0  1.0  10.0   \n",
       "...            ...      ...       ...       ...       ...  ...   ...   \n",
       "69865          0.0      4.0       0.0       0.0       0.0  1.0  12.0   \n",
       "69939          0.0      3.0       0.0       0.0       0.0  1.0  12.0   \n",
       "70305          0.0      3.0       0.0       0.0       0.0  1.0   9.0   \n",
       "70591          0.0      2.0       0.0       0.0       0.0  1.0  10.0   \n",
       "70663          0.0      3.0       0.0       0.0       0.0  1.0   9.0   \n",
       "\n",
       "       Education  Income  \n",
       "602          6.0     8.0  \n",
       "689          6.0     8.0  \n",
       "891          6.0     8.0  \n",
       "1092         6.0     8.0  \n",
       "1326         5.0     6.0  \n",
       "...          ...     ...  \n",
       "69865        6.0     8.0  \n",
       "69939        6.0     8.0  \n",
       "70305        4.0     7.0  \n",
       "70591        6.0     8.0  \n",
       "70663        6.0     6.0  \n",
       "\n",
       "[1635 rows x 22 columns]"
      ]
     },
     "execution_count": 153,
     "metadata": {},
     "output_type": "execute_result"
    }
   ],
   "source": [
    "\n",
    "df[df.duplicated()]"
   ]
  },
  {
   "cell_type": "code",
   "execution_count": 154,
   "id": "5ac3af79",
   "metadata": {},
   "outputs": [],
   "source": [
    "df = df.drop_duplicates(keep='first')"
   ]
  },
  {
   "cell_type": "code",
   "execution_count": 155,
   "id": "524802fd",
   "metadata": {},
   "outputs": [
    {
     "data": {
      "text/plain": [
       "Diabetes_binary\n",
       "0.0    33836\n",
       "1.0    34776\n",
       "Name: HighBP, dtype: int64"
      ]
     },
     "execution_count": 155,
     "metadata": {},
     "output_type": "execute_result"
    }
   ],
   "source": [
    "df.groupby('Diabetes_binary')['HighBP'].count()"
   ]
  },
  {
   "cell_type": "code",
   "execution_count": 156,
   "id": "4ccad599",
   "metadata": {},
   "outputs": [],
   "source": [
    "#save cleaned data\n",
    "\n",
    "df.to_csv(\"cleaned_data.csv\", index=False)"
   ]
  },
  {
   "cell_type": "markdown",
   "id": "4da1b05e",
   "metadata": {},
   "source": [
    "Checking for duplicates. Found out there are duplicated rows during decision tree modeling"
   ]
  },
  {
   "cell_type": "markdown",
   "id": "e167f5b9",
   "metadata": {},
   "source": [
    "# Setting up validation framework"
   ]
  },
  {
   "cell_type": "code",
   "execution_count": 230,
   "id": "e0a8c9b4",
   "metadata": {},
   "outputs": [],
   "source": [
    "from sklearn.model_selection import train_test_split"
   ]
  },
  {
   "cell_type": "code",
   "execution_count": 231,
   "id": "bdc04ef4",
   "metadata": {},
   "outputs": [],
   "source": [
    "df = pd.read_csv(\"cleaned_data.csv\")"
   ]
  },
  {
   "cell_type": "code",
   "execution_count": 232,
   "id": "5d4be3b5",
   "metadata": {},
   "outputs": [],
   "source": [
    "df_full_train, df_test = train_test_split(df, test_size=0.2, random_state=1)\n",
    "df_train, df_val = train_test_split(df_full_train, test_size=0.25, random_state=1)"
   ]
  },
  {
   "cell_type": "code",
   "execution_count": 233,
   "id": "6ec6227c",
   "metadata": {},
   "outputs": [
    {
     "data": {
      "text/plain": [
       "(41166, 13723, 13723)"
      ]
     },
     "execution_count": 233,
     "metadata": {},
     "output_type": "execute_result"
    }
   ],
   "source": [
    "len(df_train), len(df_val), len(df_test)"
   ]
  },
  {
   "cell_type": "code",
   "execution_count": 234,
   "id": "2451cfb1",
   "metadata": {},
   "outputs": [],
   "source": [
    "df_train = df_train.reset_index(drop=True)\n",
    "df_val = df_val.reset_index(drop=True)\n",
    "df_test = df_test.reset_index(drop=True)"
   ]
  },
  {
   "cell_type": "code",
   "execution_count": 235,
   "id": "fde7cad2",
   "metadata": {},
   "outputs": [
    {
     "name": "stdout",
     "output_type": "stream",
     "text": [
      "[1. 1. 0. ... 0. 1. 0.]\n"
     ]
    }
   ],
   "source": [
    "y_train = df_train.Diabetes_binary.values\n",
    "y_val = df_val.Diabetes_binary.values\n",
    "y_test = df_test.Diabetes_binary.values\n",
    "\n",
    "print(y_train)"
   ]
  },
  {
   "cell_type": "markdown",
   "id": "2d6a1807",
   "metadata": {},
   "source": [
    "# EDA and feature extraction"
   ]
  },
  {
   "cell_type": "code",
   "execution_count": 192,
   "id": "a26545bf",
   "metadata": {},
   "outputs": [
    {
     "data": {
      "text/plain": [
       "Diabetes_binary         float64\n",
       "HighBP                  float64\n",
       "HighChol                float64\n",
       "CholCheck               float64\n",
       "BMI                     float64\n",
       "Smoker                  float64\n",
       "Stroke                  float64\n",
       "HeartDiseaseorAttack    float64\n",
       "PhysActivity            float64\n",
       "Fruits                  float64\n",
       "Veggies                 float64\n",
       "HvyAlcoholConsump       float64\n",
       "AnyHealthcare           float64\n",
       "NoDocbcCost             float64\n",
       "GenHlth                 float64\n",
       "MentHlth                float64\n",
       "PhysHlth                float64\n",
       "DiffWalk                float64\n",
       "Sex                     float64\n",
       "Age                     float64\n",
       "Education               float64\n",
       "Income                  float64\n",
       "dtype: object"
      ]
     },
     "execution_count": 192,
     "metadata": {},
     "output_type": "execute_result"
    }
   ],
   "source": [
    "df.dtypes"
   ]
  },
  {
   "cell_type": "code",
   "execution_count": 193,
   "id": "1c1eca13",
   "metadata": {},
   "outputs": [],
   "source": [
    "numerical_variables = ['BMI']\n",
    "binary_categorical_variables = [\n",
    "'HighBP',\n",
    "'HighChol',\n",
    "'CholCheck',\n",
    "'Smoker',\n",
    "'Stroke',\n",
    "'HeartDiseaseorAttack',\n",
    "'PhysActivity',\n",
    "'Fruits',\n",
    "'Veggies',\n",
    "'HvyAlcoholConsump',\n",
    "'AnyHealthcare',\n",
    "'NoDocbcCost',\n",
    "'DiffWalk',\n",
    "'Sex'\n",
    "]\n",
    "other_categorical_variables = [\n",
    "'GenHlth',\n",
    "'MentHlth',\n",
    "'PhysHlth',\n",
    "'Age',\n",
    "'Education',\n",
    "'Income'\n",
    "]\n",
    "all_variables = list(df_full_train.columns)\n",
    "all_variables.remove('Diabetes_binary')\n",
    "y_full_train = df_full_train.Diabetes_binary.values"
   ]
  },
  {
   "cell_type": "code",
   "execution_count": 194,
   "id": "e4df7d81",
   "metadata": {},
   "outputs": [
    {
     "name": "stdout",
     "output_type": "stream",
     "text": [
      "['HighBP', 'HighChol', 'CholCheck', 'BMI', 'Smoker', 'Stroke', 'HeartDiseaseorAttack', 'PhysActivity', 'Fruits', 'Veggies', 'HvyAlcoholConsump', 'AnyHealthcare', 'NoDocbcCost', 'GenHlth', 'MentHlth', 'PhysHlth', 'DiffWalk', 'Sex', 'Age', 'Education', 'Income']\n",
      "[True, True, True, False, True, True, True, True, True, True, True, True, True, True, True, True, True, True, True, True, True]\n",
      "21\n"
     ]
    }
   ],
   "source": [
    "print(all_variables)\n",
    "discrete_variables = [(x not in numerical_variables) for x in all_variables]\n",
    "print(discrete_variables)\n",
    "print(len(all_variables))"
   ]
  },
  {
   "cell_type": "markdown",
   "id": "f8d364f6",
   "metadata": {},
   "source": [
    "### Mutual info classification for feature selection"
   ]
  },
  {
   "cell_type": "code",
   "execution_count": 195,
   "id": "393c59b0",
   "metadata": {},
   "outputs": [
    {
     "name": "stdout",
     "output_type": "stream",
     "text": [
      "GenHlth 0.08762\n",
      "HighBP 0.07057\n",
      "BMI 0.05187\n",
      "Age 0.0472\n",
      "HighChol 0.04\n",
      "DiffWalk 0.03566\n",
      "PhysHlth 0.02424\n",
      "Income 0.02386\n",
      "HeartDiseaseorAttack 0.02279\n",
      "Education 0.01344\n",
      "PhysActivity 0.01114\n",
      "Stroke 0.00805\n",
      "CholCheck 0.00788\n",
      "HvyAlcoholConsump 0.00498\n",
      "MentHlth 0.00438\n",
      "Smoker 0.00299\n",
      "Veggies 0.00256\n",
      "Fruits 0.00108\n",
      "Sex 0.00105\n",
      "NoDocbcCost 0.00049\n"
     ]
    }
   ],
   "source": [
    "from sklearn.feature_selection import mutual_info_classif\n",
    "threshold = 20  # the number of most relevant features\n",
    "high_score_features = []\n",
    "feature_scores = mutual_info_classif(df_full_train[all_variables], y_full_train,\n",
    "                                     discrete_features= discrete_variables, random_state=0)\n",
    "for score, f_name in sorted(zip(feature_scores, all_variables), reverse=True)[:threshold]:\n",
    "        print(f_name, round(score,5))\n",
    "        high_score_features.append(f_name)"
   ]
  },
  {
   "cell_type": "code",
   "execution_count": 196,
   "id": "91db3665",
   "metadata": {},
   "outputs": [
    {
     "name": "stdout",
     "output_type": "stream",
     "text": [
      "['GenHlth', 'HighBP', 'BMI', 'Age', 'HighChol', 'DiffWalk', 'PhysHlth', 'Income', 'HeartDiseaseorAttack', 'Education']\n"
     ]
    }
   ],
   "source": [
    "print(high_score_features[:10])"
   ]
  },
  {
   "cell_type": "code",
   "execution_count": 197,
   "id": "dbad31fd",
   "metadata": {},
   "outputs": [
    {
     "name": "stdout",
     "output_type": "stream",
     "text": [
      "         GenHlth, 0.724\n",
      "          HighBP, 0.684\n",
      "             BMI, 0.683\n",
      "             Age, 0.649\n",
      "        HighChol, 0.639\n",
      "          Income, 0.621\n",
      "        DiffWalk, 0.614\n",
      "        PhysHlth, 0.606\n",
      "       Education, 0.589\n",
      "HeartDiseaseorAttack, 0.575\n",
      "    PhysActivity, 0.569\n",
      "          Smoker, 0.538\n",
      "          Stroke, 0.530\n",
      "         Veggies, 0.530\n",
      "             Sex, 0.525\n",
      "          Fruits, 0.524\n",
      "        MentHlth, 0.521\n",
      "HvyAlcoholConsump, 0.520\n",
      "       CholCheck, 0.518\n",
      "     NoDocbcCost, 0.508\n"
     ]
    }
   ],
   "source": [
    "from sklearn.metrics import roc_auc_score, roc_curve\n",
    "\n",
    "roc_feature_score = []\n",
    "sorted_roc_features = []\n",
    "#with roc curve\n",
    "for c in all_variables:\n",
    "    auc = roc_auc_score(y_train, df_train[c])\n",
    "    if auc < 0.5:\n",
    "        auc = roc_auc_score(y_train, -df_train[c])\n",
    "    roc_feature_score.append(auc)\n",
    "    \n",
    "for score, f_name in sorted(zip(roc_feature_score, all_variables), reverse=True)[:20]:\n",
    "        print('%16s, %.3f' % (f_name, score))\n",
    "        sorted_roc_features.append(f_name)\n",
    "    "
   ]
  },
  {
   "cell_type": "code",
   "execution_count": 198,
   "id": "d7b7ce5c",
   "metadata": {},
   "outputs": [
    {
     "name": "stdout",
     "output_type": "stream",
     "text": [
      "['GenHlth', 'HighBP', 'BMI', 'Age', 'HighChol', 'Income', 'DiffWalk', 'PhysHlth', 'Education', 'HeartDiseaseorAttack']\n"
     ]
    }
   ],
   "source": [
    "print(sorted_roc_features[:10])"
   ]
  },
  {
   "cell_type": "markdown",
   "id": "fc5a8311",
   "metadata": {},
   "source": [
    "First 10 features of both methods are same. just in different order"
   ]
  },
  {
   "cell_type": "markdown",
   "id": "a9d67669",
   "metadata": {},
   "source": [
    "#### Checking number of duplicates after feature selection"
   ]
  },
  {
   "cell_type": "code",
   "execution_count": null,
   "id": "04d9a011",
   "metadata": {},
   "outputs": [],
   "source": [
    "selected_features = ['GenHlth', 'BMI', 'HighBP', 'Age', 'HighChol', 'Income', 'DiffWalk', \n",
    "                         'PhysHlth', 'Education', 'HeartDiseaseorAttack']"
   ]
  },
  {
   "cell_type": "code",
   "execution_count": 203,
   "id": "a5fd6e91",
   "metadata": {},
   "outputs": [
    {
     "name": "stdout",
     "output_type": "stream",
     "text": [
      "5792\n",
      "41166\n",
      "943\n",
      "13723\n",
      "942\n",
      "13723\n"
     ]
    }
   ],
   "source": [
    "\n",
    "print(df_train[df_train[selected_features].duplicated()].shape[0])\n",
    "print(df_train.shape[0])\n",
    "print(df_val[df_val[selected_features].duplicated()].shape[0])\n",
    "print(df_val.shape[0])\n",
    "print(df_test[df_test[selected_features].duplicated()].shape[0])\n",
    "print(df_test.shape[0])"
   ]
  },
  {
   "cell_type": "markdown",
   "id": "b33be383",
   "metadata": {},
   "source": [
    "# Model selection & Parameter tuning"
   ]
  },
  {
   "cell_type": "code",
   "execution_count": 204,
   "id": "20765c95",
   "metadata": {},
   "outputs": [],
   "source": [
    "\n",
    "from sklearn.feature_extraction import DictVectorizer\n",
    "from sklearn.linear_model import LogisticRegression\n",
    "from sklearn.model_selection import KFold\n",
    "\n",
    "from sklearn.tree import DecisionTreeClassifier\n",
    "from sklearn.metrics import roc_auc_score\n",
    "from sklearn.tree import export_text"
   ]
  },
  {
   "cell_type": "markdown",
   "id": "1892d187",
   "metadata": {},
   "source": [
    "### Logistic regression"
   ]
  },
  {
   "cell_type": "code",
   "execution_count": 242,
   "id": "3a9f08e4",
   "metadata": {},
   "outputs": [],
   "source": [
    "#get x and y after removing duplicates\n",
    "def transform_io(df):\n",
    "    df_nodup = df[selected_features].copy()\n",
    "    dup_idx = df[df_nodup.duplicated()].index\n",
    "    x = df_nodup.drop_duplicates(keep='first')\n",
    "    train_dicts = x.to_dict(orient='records')\n",
    "    dv = DictVectorizer()\n",
    "    X_train = dv.fit_transform(train_dicts)\n",
    "    \n",
    "    df_y_nodup = df['Diabetes_binary'].copy()\n",
    "    df_y_nodup.drop(dup_idx, inplace=True)\n",
    "    y = df_y_nodup.values\n",
    "    \n",
    "    return X_train, y"
   ]
  },
  {
   "cell_type": "code",
   "execution_count": 243,
   "id": "1fc48e83",
   "metadata": {},
   "outputs": [
    {
     "name": "stdout",
     "output_type": "stream",
     "text": [
      "(35374, 10)\n",
      "35374\n",
      "(41166, 22)\n"
     ]
    }
   ],
   "source": [
    "X_train , y_train_nodup = transform_io(df_train)\n",
    "print(x_train_nodup.shape)\n",
    "print(len(y_train_nodup))\n",
    "print(df_train.shape)"
   ]
  },
  {
   "cell_type": "code",
   "execution_count": 244,
   "id": "3da64c69",
   "metadata": {},
   "outputs": [],
   "source": [
    "\n",
    "model = LogisticRegression(solver='liblinear', C=1.0, max_iter=1000)\n",
    "model.fit(X_train, y_train_nodup)\n",
    "\n",
    "X_val , y_val_nodup = transform_io(df_val)\n",
    "\n",
    "y_pred = model.predict_proba(X_val)[:, 1]"
   ]
  },
  {
   "cell_type": "code",
   "execution_count": 245,
   "id": "9c309621",
   "metadata": {},
   "outputs": [
    {
     "data": {
      "text/plain": [
       "0.8116879817963534"
      ]
     },
     "execution_count": 245,
     "metadata": {},
     "output_type": "execute_result"
    }
   ],
   "source": [
    "roc_auc_score(y_val_nodup, y_pred)"
   ]
  },
  {
   "cell_type": "code",
   "execution_count": 246,
   "id": "0209f58a",
   "metadata": {},
   "outputs": [],
   "source": [
    "\n",
    "def train(X_train, y_train, C=1.0):\n",
    "\n",
    "    model = LogisticRegression(solver='liblinear', C=C, max_iter=1000)\n",
    "    model.fit(X_train, y_train)\n",
    "\n",
    "    return dv, model\n",
    "\n",
    "def predict(X, dv, model):\n",
    "    y_pred = model.predict_proba(X)[:, 1]\n",
    "\n",
    "    return y_pred"
   ]
  },
  {
   "cell_type": "code",
   "execution_count": 248,
   "id": "c841e8ee",
   "metadata": {},
   "outputs": [
    {
     "name": "stdout",
     "output_type": "stream",
     "text": [
      "C=0.01, 0.807 +- 0.002\n",
      "C= 0.1, 0.813 +- 0.002\n",
      "C= 0.5, 0.814 +- 0.002\n",
      "C=  10, 0.814 +- 0.002\n"
     ]
    }
   ],
   "source": [
    "kfold = KFold(n_splits=5, shuffle=True, random_state=1)\n",
    "\n",
    "for C in [0.01, 0.1, 0.5, 10]:\n",
    "    scores = []\n",
    "\n",
    "    for train_idx, val_idx in kfold.split(df_full_train):\n",
    "        df_train = df_full_train.iloc[train_idx]\n",
    "        df_val = df_full_train.iloc[val_idx]\n",
    "        \n",
    "        X_train, y_train = transform_io(df_train)\n",
    "        X_val, y_val = transform_io(df_val)\n",
    "\n",
    "        dv, model = train(X_train, y_train, C=C)\n",
    "        y_pred = predict(X_val, dv, model)\n",
    "\n",
    "        auc = roc_auc_score(y_val, y_pred)\n",
    "        scores.append(auc)\n",
    "\n",
    "    print('C=%4s, %.3f +- %.3f' % (C, np.mean(scores), np.std(scores)))"
   ]
  },
  {
   "cell_type": "markdown",
   "id": "3e1ccb66",
   "metadata": {},
   "source": [
    "chose C = 0.5"
   ]
  },
  {
   "cell_type": "markdown",
   "id": "0bf97086",
   "metadata": {},
   "source": [
    "### Decision tree"
   ]
  },
  {
   "cell_type": "code",
   "execution_count": 249,
   "id": "bcfaf305",
   "metadata": {},
   "outputs": [
    {
     "name": "stdout",
     "output_type": "stream",
     "text": [
      "   1 -> 0.676\n",
      "   2 -> 0.741\n",
      "   3 -> 0.769\n",
      "   4 -> 0.786\n",
      "   5 -> 0.796\n",
      "   6 -> 0.802\n",
      "  10 -> 0.792\n",
      "  15 -> 0.709\n",
      "  20 -> 0.661\n",
      "None -> 0.649\n"
     ]
    }
   ],
   "source": [
    "depths = [1, 2, 3, 4, 5, 6, 10, 15, 20, None]\n",
    "X_train, y_train = transform_io(df_train)\n",
    "X_val, y_val = transform_io(df_val)\n",
    "\n",
    "for depth in depths: \n",
    "    dt = DecisionTreeClassifier(max_depth=depth)\n",
    "    dt.fit(X_train, y_train)\n",
    "    \n",
    "    y_pred = dt.predict_proba(X_val)[:, 1]\n",
    "    auc = roc_auc_score(y_val, y_pred)\n",
    "    \n",
    "    print('%4s -> %.3f' % (depth, auc))"
   ]
  },
  {
   "cell_type": "code",
   "execution_count": 250,
   "id": "aa6456cd",
   "metadata": {},
   "outputs": [],
   "source": [
    "scores = []\n",
    "\n",
    "for depth in [5, 6, 10]:\n",
    "    for s in [1, 5, 10, 15, 20, 500, 100, 200]:\n",
    "        dt = DecisionTreeClassifier(max_depth=depth, min_samples_leaf=s)\n",
    "        dt.fit(X_train, y_train)\n",
    "\n",
    "        y_pred = dt.predict_proba(X_val)[:, 1]\n",
    "        auc = roc_auc_score(y_val, y_pred)\n",
    "        \n",
    "        scores.append((depth, s, auc))"
   ]
  },
  {
   "cell_type": "code",
   "execution_count": 251,
   "id": "c016d751",
   "metadata": {},
   "outputs": [
    {
     "data": {
      "text/html": [
       "<div>\n",
       "<style scoped>\n",
       "    .dataframe tbody tr th:only-of-type {\n",
       "        vertical-align: middle;\n",
       "    }\n",
       "\n",
       "    .dataframe tbody tr th {\n",
       "        vertical-align: top;\n",
       "    }\n",
       "\n",
       "    .dataframe thead tr th {\n",
       "        text-align: left;\n",
       "    }\n",
       "\n",
       "    .dataframe thead tr:last-of-type th {\n",
       "        text-align: right;\n",
       "    }\n",
       "</style>\n",
       "<table border=\"1\" class=\"dataframe\">\n",
       "  <thead>\n",
       "    <tr>\n",
       "      <th></th>\n",
       "      <th colspan=\"3\" halign=\"left\">auc</th>\n",
       "    </tr>\n",
       "    <tr>\n",
       "      <th>max_depth</th>\n",
       "      <th>5</th>\n",
       "      <th>6</th>\n",
       "      <th>10</th>\n",
       "    </tr>\n",
       "    <tr>\n",
       "      <th>min_samples_leaf</th>\n",
       "      <th></th>\n",
       "      <th></th>\n",
       "      <th></th>\n",
       "    </tr>\n",
       "  </thead>\n",
       "  <tbody>\n",
       "    <tr>\n",
       "      <th>1</th>\n",
       "      <td>0.796</td>\n",
       "      <td>0.802</td>\n",
       "      <td>0.791</td>\n",
       "    </tr>\n",
       "    <tr>\n",
       "      <th>5</th>\n",
       "      <td>0.796</td>\n",
       "      <td>0.802</td>\n",
       "      <td>0.799</td>\n",
       "    </tr>\n",
       "    <tr>\n",
       "      <th>10</th>\n",
       "      <td>0.796</td>\n",
       "      <td>0.803</td>\n",
       "      <td>0.799</td>\n",
       "    </tr>\n",
       "    <tr>\n",
       "      <th>15</th>\n",
       "      <td>0.796</td>\n",
       "      <td>0.803</td>\n",
       "      <td>0.801</td>\n",
       "    </tr>\n",
       "    <tr>\n",
       "      <th>20</th>\n",
       "      <td>0.796</td>\n",
       "      <td>0.803</td>\n",
       "      <td>0.803</td>\n",
       "    </tr>\n",
       "    <tr>\n",
       "      <th>100</th>\n",
       "      <td>0.796</td>\n",
       "      <td>0.803</td>\n",
       "      <td>0.807</td>\n",
       "    </tr>\n",
       "    <tr>\n",
       "      <th>200</th>\n",
       "      <td>0.796</td>\n",
       "      <td>0.803</td>\n",
       "      <td>0.807</td>\n",
       "    </tr>\n",
       "    <tr>\n",
       "      <th>500</th>\n",
       "      <td>0.795</td>\n",
       "      <td>0.801</td>\n",
       "      <td>0.802</td>\n",
       "    </tr>\n",
       "  </tbody>\n",
       "</table>\n",
       "</div>"
      ],
      "text/plain": [
       "                    auc              \n",
       "max_depth            5      6      10\n",
       "min_samples_leaf                     \n",
       "1                 0.796  0.802  0.791\n",
       "5                 0.796  0.802  0.799\n",
       "10                0.796  0.803  0.799\n",
       "15                0.796  0.803  0.801\n",
       "20                0.796  0.803  0.803\n",
       "100               0.796  0.803  0.807\n",
       "200               0.796  0.803  0.807\n",
       "500               0.795  0.801  0.802"
      ]
     },
     "execution_count": 251,
     "metadata": {},
     "output_type": "execute_result"
    }
   ],
   "source": [
    "columns = ['max_depth', 'min_samples_leaf', 'auc']\n",
    "df_scores = pd.DataFrame(scores, columns=columns)\n",
    "df_scores_pivot = df_scores.pivot(index='min_samples_leaf', columns=['max_depth'], values=['auc'])\n",
    "df_scores_pivot.round(3)"
   ]
  },
  {
   "cell_type": "code",
   "execution_count": 252,
   "id": "202e437f",
   "metadata": {},
   "outputs": [
    {
     "data": {
      "text/plain": [
       "<Axes: xlabel='None-max_depth', ylabel='min_samples_leaf'>"
      ]
     },
     "execution_count": 252,
     "metadata": {},
     "output_type": "execute_result"
    },
    {
     "data": {
      "image/png": "[encoded data removed]",
      "text/plain": [
       "<Figure size 640x480 with 2 Axes>"
      ]
     },
     "metadata": {},
     "output_type": "display_data"
    }
   ],
   "source": [
    "sns.heatmap(df_scores_pivot, annot=True, fmt=\".3f\")"
   ]
  },
  {
   "cell_type": "code",
   "execution_count": 253,
   "id": "e4cc7f05",
   "metadata": {},
   "outputs": [
    {
     "data": {
      "text/html": [
       "<style>#sk-container-id-1 {color: black;}#sk-container-id-1 pre{padding: 0;}#sk-container-id-1 div.sk-toggleable {background-color: white;}#sk-container-id-1 label.sk-toggleable__label {cursor: pointer;display: block;width: 100%;margin-bottom: 0;padding: 0.3em;box-sizing: border-box;text-align: center;}#sk-container-id-1 label.sk-toggleable__label-arrow:before {content: \"▸\";float: left;margin-right: 0.25em;color: #696969;}#sk-container-id-1 label.sk-toggleable__label-arrow:hover:before {color: black;}#sk-container-id-1 div.sk-estimator:hover label.sk-toggleable__label-arrow:before {color: black;}#sk-container-id-1 div.sk-toggleable__content {max-height: 0;max-width: 0;overflow: hidden;text-align: left;background-color: #f0f8ff;}#sk-container-id-1 div.sk-toggleable__content pre {margin: 0.2em;color: black;border-radius: 0.25em;background-color: #f0f8ff;}#sk-container-id-1 input.sk-toggleable__control:checked~div.sk-toggleable__content {max-height: 200px;max-width: 100%;overflow: auto;}#sk-container-id-1 input.sk-toggleable__control:checked~label.sk-toggleable__label-arrow:before {content: \"▾\";}#sk-container-id-1 div.sk-estimator input.sk-toggleable__control:checked~label.sk-toggleable__label {background-color: #d4ebff;}#sk-container-id-1 div.sk-label input.sk-toggleable__control:checked~label.sk-toggleable__label {background-color: #d4ebff;}#sk-container-id-1 input.sk-hidden--visually {border: 0;clip: rect(1px 1px 1px 1px);clip: rect(1px, 1px, 1px, 1px);height: 1px;margin: -1px;overflow: hidden;padding: 0;position: absolute;width: 1px;}#sk-container-id-1 div.sk-estimator {font-family: monospace;background-color: #f0f8ff;border: 1px dotted black;border-radius: 0.25em;box-sizing: border-box;margin-bottom: 0.5em;}#sk-container-id-1 div.sk-estimator:hover {background-color: #d4ebff;}#sk-container-id-1 div.sk-parallel-item::after {content: \"\";width: 100%;border-bottom: 1px solid gray;flex-grow: 1;}#sk-container-id-1 div.sk-label:hover label.sk-toggleable__label {background-color: #d4ebff;}#sk-container-id-1 div.sk-serial::before {content: \"\";position: absolute;border-left: 1px solid gray;box-sizing: border-box;top: 0;bottom: 0;left: 50%;z-index: 0;}#sk-container-id-1 div.sk-serial {display: flex;flex-direction: column;align-items: center;background-color: white;padding-right: 0.2em;padding-left: 0.2em;position: relative;}#sk-container-id-1 div.sk-item {position: relative;z-index: 1;}#sk-container-id-1 div.sk-parallel {display: flex;align-items: stretch;justify-content: center;background-color: white;position: relative;}#sk-container-id-1 div.sk-item::before, #sk-container-id-1 div.sk-parallel-item::before {content: \"\";position: absolute;border-left: 1px solid gray;box-sizing: border-box;top: 0;bottom: 0;left: 50%;z-index: -1;}#sk-container-id-1 div.sk-parallel-item {display: flex;flex-direction: column;z-index: 1;position: relative;background-color: white;}#sk-container-id-1 div.sk-parallel-item:first-child::after {align-self: flex-end;width: 50%;}#sk-container-id-1 div.sk-parallel-item:last-child::after {align-self: flex-start;width: 50%;}#sk-container-id-1 div.sk-parallel-item:only-child::after {width: 0;}#sk-container-id-1 div.sk-dashed-wrapped {border: 1px dashed gray;margin: 0 0.4em 0.5em 0.4em;box-sizing: border-box;padding-bottom: 0.4em;background-color: white;}#sk-container-id-1 div.sk-label label {font-family: monospace;font-weight: bold;display: inline-block;line-height: 1.2em;}#sk-container-id-1 div.sk-label-container {text-align: center;}#sk-container-id-1 div.sk-container {/* jupyter's `normalize.less` sets `[hidden] { display: none; }` but bootstrap.min.css set `[hidden] { display: none !important; }` so we also need the `!important` here to be able to override the default hidden behavior on the sphinx rendered scikit-learn.org. See: https://github.com/scikit-learn/scikit-learn/issues/21755 */display: inline-block !important;position: relative;}#sk-container-id-1 div.sk-text-repr-fallback {display: none;}</style><div id=\"sk-container-id-1\" class=\"sk-top-container\"><div class=\"sk-text-repr-fallback\"><pre>DecisionTreeClassifier(max_depth=10, min_samples_leaf=100)</pre><b>In a Jupyter environment, please rerun this cell to show the HTML representation or trust the notebook. <br />On GitHub, the HTML representation is unable to render, please try loading this page with nbviewer.org.</b></div><div class=\"sk-container\" hidden><div class=\"sk-item\"><div class=\"sk-estimator sk-toggleable\"><input class=\"sk-toggleable__control sk-hidden--visually\" id=\"sk-estimator-id-1\" type=\"checkbox\" checked><label for=\"sk-estimator-id-1\" class=\"sk-toggleable__label sk-toggleable__label-arrow\">DecisionTreeClassifier</label><div class=\"sk-toggleable__content\"><pre>DecisionTreeClassifier(max_depth=10, min_samples_leaf=100)</pre></div></div></div></div></div>"
      ],
      "text/plain": [
       "DecisionTreeClassifier(max_depth=10, min_samples_leaf=100)"
      ]
     },
     "execution_count": 253,
     "metadata": {},
     "output_type": "execute_result"
    }
   ],
   "source": [
    "dt = DecisionTreeClassifier(max_depth=10, min_samples_leaf=100)\n",
    "dt.fit(X_train, y_train)"
   ]
  },
  {
   "cell_type": "code",
   "execution_count": 254,
   "id": "20a9dd02",
   "metadata": {},
   "outputs": [
    {
     "name": "stdout",
     "output_type": "stream",
     "text": [
      "|--- HighBP <= 0.50\n",
      "|   |--- GenHlth <= 2.50\n",
      "|   |   |--- Age <= 9.50\n",
      "|   |   |   |--- BMI <= 30.50\n",
      "|   |   |   |   |--- HighChol <= 0.50\n",
      "|   |   |   |   |   |--- GenHlth <= 1.50\n",
      "|   |   |   |   |   |   |--- BMI <= 27.50\n",
      "|   |   |   |   |   |   |   |--- Income <= 4.50\n",
      "|   |   |   |   |   |   |   |   |--- class: 0.0\n",
      "|   |   |   |   |   |   |   |--- Income >  4.50\n",
      "|   |   |   |   |   |   |   |   |--- Income <= 7.50\n",
      "|   |   |   |   |   |   |   |   |   |--- BMI <= 24.50\n",
      "|   |   |   |   |   |   |   |   |   |   |--- class: 0.0\n",
      "|   |   |   |   |   |   |   |   |   |--- BMI >  24.50\n",
      "|   |   |   |   |   |   |   |   |   |   |--- class: 0.0\n",
      "|   |   |   |   |   |   |   |   |--- Income >  7.50\n",
      "|   |   |   |   |   |   |   |   |   |--- BMI <= 21.50\n",
      "|   |   |   |   |   |   |   |   |   |   |--- class: 0.0\n",
      "|   |   |   |   |   |   |   |   |   |--- BMI >  21.50\n",
      "|   |   |   |   |   |   |   |   |   |   |--- class: 0.0\n",
      "|   |   |   |   |   |   |--- BMI >  27.50\n",
      "|   |   |   |   |   |   |   |--- Age <= 5.50\n",
      "|   |   |   |   |   |   |   |   |--- class: 0.0\n",
      "|   |   |   |   |   |   |   |--- Age >  5.50\n",
      "|   |   |   |   |   |   |   |   |--- class: 0.0\n",
      "|   |   |   |   |   |--- GenHlth >  1.50\n",
      "|   |   |   |   |   |   |--- Age <= 5.50\n",
      "|   |   |   |   |   |   |   |--- BMI <= 25.50\n",
      "|   |   |   |   |   |   |   |   |--- PhysHlth <= 1.50\n",
      "|   |   |   |   |   |   |   |   |   |--- Age <= 2.50\n",
      "|   |   |   |   |   |   |   |   |   |   |--- class: 0.0\n",
      "|   |   |   |   |   |   |   |   |   |--- Age >  2.50\n",
      "|   |   |   |   |   |   |   |   |   |   |--- class: 0.0\n",
      "|   |   |   |   |   |   |   |   |--- PhysHlth >  1.50\n",
      "|   |   |   |   |   |   |   |   |   |--- class: 0.0\n",
      "|   |   |   |   |   |   |   |--- BMI >  25.50\n",
      "|   |   |   |   |   |   |   |   |--- Income <= 7.50\n",
      "|   |   |   |   |   |   |   |   |   |--- Age <= 3.50\n",
      "|   |   |   |   |   |   |   |   |   |   |--- class: 0.0\n",
      "|   |   |   |   |   |   |   |   |   |--- Age >  3.50\n",
      "|   |   |   |   |   |   |   |   |   |   |--- class: 0.0\n",
      "|   |   |   |   |   |   |   |   |--- Income >  7.50\n",
      "|   |   |   |   |   |   |   |   |   |--- class: 0.0\n",
      "|   |   |   |   |   |   |--- Age >  5.50\n",
      "|   |   |   |   |   |   |   |--- BMI <= 24.50\n",
      "|   |   |   |   |   |   |   |   |--- Income <= 7.50\n",
      "|   |   |   |   |   |   |   |   |   |--- BMI <= 22.50\n",
      "|   |   |   |   |   |   |   |   |   |   |--- class: 0.0\n",
      "|   |   |   |   |   |   |   |   |   |--- BMI >  22.50\n",
      "|   |   |   |   |   |   |   |   |   |   |--- class: 0.0\n",
      "|   |   |   |   |   |   |   |   |--- Income >  7.50\n",
      "|   |   |   |   |   |   |   |   |   |--- class: 0.0\n",
      "|   |   |   |   |   |   |   |--- BMI >  24.50\n",
      "|   |   |   |   |   |   |   |   |--- Income <= 7.50\n",
      "|   |   |   |   |   |   |   |   |   |--- Education <= 4.50\n",
      "|   |   |   |   |   |   |   |   |   |   |--- class: 0.0\n",
      "|   |   |   |   |   |   |   |   |   |--- Education >  4.50\n",
      "|   |   |   |   |   |   |   |   |   |   |--- class: 0.0\n",
      "|   |   |   |   |   |   |   |   |--- Income >  7.50\n",
      "|   |   |   |   |   |   |   |   |   |--- class: 0.0\n",
      "|   |   |   |   |--- HighChol >  0.50\n",
      "|   |   |   |   |   |--- BMI <= 23.50\n",
      "|   |   |   |   |   |   |--- Age <= 7.50\n",
      "|   |   |   |   |   |   |   |--- class: 0.0\n",
      "|   |   |   |   |   |   |--- Age >  7.50\n",
      "|   |   |   |   |   |   |   |--- class: 0.0\n",
      "|   |   |   |   |   |--- BMI >  23.50\n",
      "|   |   |   |   |   |   |--- GenHlth <= 1.50\n",
      "|   |   |   |   |   |   |   |--- Income <= 7.50\n",
      "|   |   |   |   |   |   |   |   |--- class: 0.0\n",
      "|   |   |   |   |   |   |   |--- Income >  7.50\n",
      "|   |   |   |   |   |   |   |   |--- class: 0.0\n",
      "|   |   |   |   |   |   |--- GenHlth >  1.50\n",
      "|   |   |   |   |   |   |   |--- Income <= 6.50\n",
      "|   |   |   |   |   |   |   |   |--- class: 0.0\n",
      "|   |   |   |   |   |   |   |--- Income >  6.50\n",
      "|   |   |   |   |   |   |   |   |--- Age <= 7.50\n",
      "|   |   |   |   |   |   |   |   |   |--- class: 0.0\n",
      "|   |   |   |   |   |   |   |   |--- Age >  7.50\n",
      "|   |   |   |   |   |   |   |   |   |--- class: 0.0\n",
      "|   |   |   |--- BMI >  30.50\n",
      "|   |   |   |   |--- Age <= 6.50\n",
      "|   |   |   |   |   |--- HighChol <= 0.50\n",
      "|   |   |   |   |   |   |--- Age <= 4.50\n",
      "|   |   |   |   |   |   |   |--- Age <= 2.50\n",
      "|   |   |   |   |   |   |   |   |--- class: 0.0\n",
      "|   |   |   |   |   |   |   |--- Age >  2.50\n",
      "|   |   |   |   |   |   |   |   |--- class: 0.0\n",
      "|   |   |   |   |   |   |--- Age >  4.50\n",
      "|   |   |   |   |   |   |   |--- Age <= 5.50\n",
      "|   |   |   |   |   |   |   |   |--- class: 0.0\n",
      "|   |   |   |   |   |   |   |--- Age >  5.50\n",
      "|   |   |   |   |   |   |   |   |--- class: 0.0\n",
      "|   |   |   |   |   |--- HighChol >  0.50\n",
      "|   |   |   |   |   |   |--- class: 0.0\n",
      "|   |   |   |   |--- Age >  6.50\n",
      "|   |   |   |   |   |--- GenHlth <= 1.50\n",
      "|   |   |   |   |   |   |--- class: 0.0\n",
      "|   |   |   |   |   |--- GenHlth >  1.50\n",
      "|   |   |   |   |   |   |--- BMI <= 33.50\n",
      "|   |   |   |   |   |   |   |--- class: 0.0\n",
      "|   |   |   |   |   |   |--- BMI >  33.50\n",
      "|   |   |   |   |   |   |   |--- BMI <= 36.50\n",
      "|   |   |   |   |   |   |   |   |--- class: 0.0\n",
      "|   |   |   |   |   |   |   |--- BMI >  36.50\n",
      "|   |   |   |   |   |   |   |   |--- class: 0.0\n",
      "|   |   |--- Age >  9.50\n",
      "|   |   |   |--- BMI <= 25.50\n",
      "|   |   |   |   |--- Income <= 6.50\n",
      "|   |   |   |   |   |--- GenHlth <= 1.50\n",
      "|   |   |   |   |   |   |--- class: 0.0\n",
      "|   |   |   |   |   |--- GenHlth >  1.50\n",
      "|   |   |   |   |   |   |--- BMI <= 22.50\n",
      "|   |   |   |   |   |   |   |--- class: 0.0\n",
      "|   |   |   |   |   |   |--- BMI >  22.50\n",
      "|   |   |   |   |   |   |   |--- class: 0.0\n",
      "|   |   |   |   |--- Income >  6.50\n",
      "|   |   |   |   |   |--- HighChol <= 0.50\n",
      "|   |   |   |   |   |   |--- Income <= 7.50\n",
      "|   |   |   |   |   |   |   |--- class: 0.0\n",
      "|   |   |   |   |   |   |--- Income >  7.50\n",
      "|   |   |   |   |   |   |   |--- class: 0.0\n",
      "|   |   |   |   |   |--- HighChol >  0.50\n",
      "|   |   |   |   |   |   |--- class: 0.0\n",
      "|   |   |   |--- BMI >  25.50\n",
      "|   |   |   |   |--- GenHlth <= 1.50\n",
      "|   |   |   |   |   |--- BMI <= 28.50\n",
      "|   |   |   |   |   |   |--- class: 0.0\n",
      "|   |   |   |   |   |--- BMI >  28.50\n",
      "|   |   |   |   |   |   |--- class: 0.0\n",
      "|   |   |   |   |--- GenHlth >  1.50\n",
      "|   |   |   |   |   |--- HeartDiseaseorAttack <= 0.50\n",
      "|   |   |   |   |   |   |--- BMI <= 29.50\n",
      "|   |   |   |   |   |   |   |--- Age <= 11.50\n",
      "|   |   |   |   |   |   |   |   |--- HighChol <= 0.50\n",
      "|   |   |   |   |   |   |   |   |   |--- class: 0.0\n",
      "|   |   |   |   |   |   |   |   |--- HighChol >  0.50\n",
      "|   |   |   |   |   |   |   |   |   |--- class: 0.0\n",
      "|   |   |   |   |   |   |   |--- Age >  11.50\n",
      "|   |   |   |   |   |   |   |   |--- class: 0.0\n",
      "|   |   |   |   |   |   |--- BMI >  29.50\n",
      "|   |   |   |   |   |   |   |--- Age <= 10.50\n",
      "|   |   |   |   |   |   |   |   |--- class: 0.0\n",
      "|   |   |   |   |   |   |   |--- Age >  10.50\n",
      "|   |   |   |   |   |   |   |   |--- class: 1.0\n",
      "|   |   |   |   |   |--- HeartDiseaseorAttack >  0.50\n",
      "|   |   |   |   |   |   |--- class: 1.0\n",
      "|   |--- GenHlth >  2.50\n",
      "|   |   |--- Age <= 4.50\n",
      "|   |   |   |--- GenHlth <= 3.50\n",
      "|   |   |   |   |--- HighChol <= 0.50\n",
      "|   |   |   |   |   |--- BMI <= 35.50\n",
      "|   |   |   |   |   |   |--- Age <= 3.50\n",
      "|   |   |   |   |   |   |   |--- Education <= 4.50\n",
      "|   |   |   |   |   |   |   |   |--- class: 0.0\n",
      "|   |   |   |   |   |   |   |--- Education >  4.50\n",
      "|   |   |   |   |   |   |   |   |--- Education <= 5.50\n",
      "|   |   |   |   |   |   |   |   |   |--- class: 0.0\n",
      "|   |   |   |   |   |   |   |   |--- Education >  5.50\n",
      "|   |   |   |   |   |   |   |   |   |--- class: 0.0\n",
      "|   |   |   |   |   |   |--- Age >  3.50\n",
      "|   |   |   |   |   |   |   |--- class: 0.0\n",
      "|   |   |   |   |   |--- BMI >  35.50\n",
      "|   |   |   |   |   |   |--- class: 0.0\n",
      "|   |   |   |   |--- HighChol >  0.50\n",
      "|   |   |   |   |   |--- class: 0.0\n",
      "|   |   |   |--- GenHlth >  3.50\n",
      "|   |   |   |   |--- BMI <= 32.50\n",
      "|   |   |   |   |   |--- PhysHlth <= 4.50\n",
      "|   |   |   |   |   |   |--- class: 0.0\n",
      "|   |   |   |   |   |--- PhysHlth >  4.50\n",
      "|   |   |   |   |   |   |--- class: 0.0\n",
      "|   |   |   |   |--- BMI >  32.50\n",
      "|   |   |   |   |   |--- class: 1.0\n",
      "|   |   |--- Age >  4.50\n",
      "|   |   |   |--- BMI <= 27.50\n",
      "|   |   |   |   |--- HighChol <= 0.50\n",
      "|   |   |   |   |   |--- Age <= 8.50\n",
      "|   |   |   |   |   |   |--- GenHlth <= 3.50\n",
      "|   |   |   |   |   |   |   |--- Age <= 7.50\n",
      "|   |   |   |   |   |   |   |   |--- Age <= 5.50\n",
      "|   |   |   |   |   |   |   |   |   |--- class: 0.0\n",
      "|   |   |   |   |   |   |   |   |--- Age >  5.50\n",
      "|   |   |   |   |   |   |   |   |   |--- Age <= 6.50\n",
      "|   |   |   |   |   |   |   |   |   |   |--- class: 0.0\n",
      "|   |   |   |   |   |   |   |   |   |--- Age >  6.50\n",
      "|   |   |   |   |   |   |   |   |   |   |--- class: 0.0\n",
      "|   |   |   |   |   |   |   |--- Age >  7.50\n",
      "|   |   |   |   |   |   |   |   |--- class: 0.0\n",
      "|   |   |   |   |   |   |--- GenHlth >  3.50\n",
      "|   |   |   |   |   |   |   |--- BMI <= 23.50\n",
      "|   |   |   |   |   |   |   |   |--- class: 0.0\n",
      "|   |   |   |   |   |   |   |--- BMI >  23.50\n",
      "|   |   |   |   |   |   |   |   |--- class: 0.0\n",
      "|   |   |   |   |   |--- Age >  8.50\n",
      "|   |   |   |   |   |   |--- BMI <= 23.50\n",
      "|   |   |   |   |   |   |   |--- Age <= 11.50\n",
      "|   |   |   |   |   |   |   |   |--- PhysHlth <= 2.50\n",
      "|   |   |   |   |   |   |   |   |   |--- class: 0.0\n",
      "|   |   |   |   |   |   |   |   |--- PhysHlth >  2.50\n",
      "|   |   |   |   |   |   |   |   |   |--- class: 0.0\n",
      "|   |   |   |   |   |   |   |--- Age >  11.50\n",
      "|   |   |   |   |   |   |   |   |--- class: 0.0\n",
      "|   |   |   |   |   |   |--- BMI >  23.50\n",
      "|   |   |   |   |   |   |   |--- Education <= 4.50\n",
      "|   |   |   |   |   |   |   |   |--- BMI <= 25.50\n",
      "|   |   |   |   |   |   |   |   |   |--- class: 1.0\n",
      "|   |   |   |   |   |   |   |   |--- BMI >  25.50\n",
      "|   |   |   |   |   |   |   |   |   |--- class: 1.0\n",
      "|   |   |   |   |   |   |   |--- Education >  4.50\n",
      "|   |   |   |   |   |   |   |   |--- GenHlth <= 3.50\n",
      "|   |   |   |   |   |   |   |   |   |--- Income <= 6.50\n",
      "|   |   |   |   |   |   |   |   |   |   |--- class: 0.0\n",
      "|   |   |   |   |   |   |   |   |   |--- Income >  6.50\n",
      "|   |   |   |   |   |   |   |   |   |   |--- class: 0.0\n",
      "|   |   |   |   |   |   |   |   |--- GenHlth >  3.50\n",
      "|   |   |   |   |   |   |   |   |   |--- class: 1.0\n",
      "|   |   |   |   |--- HighChol >  0.50\n",
      "|   |   |   |   |   |--- GenHlth <= 3.50\n",
      "|   |   |   |   |   |   |--- Age <= 10.50\n",
      "|   |   |   |   |   |   |   |--- Income <= 7.50\n",
      "|   |   |   |   |   |   |   |   |--- PhysHlth <= 0.50\n",
      "|   |   |   |   |   |   |   |   |   |--- class: 0.0\n",
      "|   |   |   |   |   |   |   |   |--- PhysHlth >  0.50\n",
      "|   |   |   |   |   |   |   |   |   |--- class: 0.0\n",
      "|   |   |   |   |   |   |   |--- Income >  7.50\n",
      "|   |   |   |   |   |   |   |   |--- class: 0.0\n",
      "|   |   |   |   |   |   |--- Age >  10.50\n",
      "|   |   |   |   |   |   |   |--- BMI <= 24.50\n",
      "|   |   |   |   |   |   |   |   |--- class: 0.0\n",
      "|   |   |   |   |   |   |   |--- BMI >  24.50\n",
      "|   |   |   |   |   |   |   |   |--- class: 1.0\n",
      "|   |   |   |   |   |--- GenHlth >  3.50\n",
      "|   |   |   |   |   |   |--- BMI <= 24.50\n",
      "|   |   |   |   |   |   |   |--- BMI <= 21.50\n",
      "|   |   |   |   |   |   |   |   |--- class: 0.0\n",
      "|   |   |   |   |   |   |   |--- BMI >  21.50\n",
      "|   |   |   |   |   |   |   |   |--- class: 1.0\n",
      "|   |   |   |   |   |   |--- BMI >  24.50\n",
      "|   |   |   |   |   |   |   |--- Education <= 4.50\n",
      "|   |   |   |   |   |   |   |   |--- class: 1.0\n",
      "|   |   |   |   |   |   |   |--- Education >  4.50\n",
      "|   |   |   |   |   |   |   |   |--- class: 1.0\n",
      "|   |   |   |--- BMI >  27.50\n",
      "|   |   |   |   |--- GenHlth <= 3.50\n",
      "|   |   |   |   |   |--- HeartDiseaseorAttack <= 0.50\n",
      "|   |   |   |   |   |   |--- BMI <= 31.50\n",
      "|   |   |   |   |   |   |   |--- HighChol <= 0.50\n",
      "|   |   |   |   |   |   |   |   |--- Age <= 8.50\n",
      "|   |   |   |   |   |   |   |   |   |--- BMI <= 29.50\n",
      "|   |   |   |   |   |   |   |   |   |   |--- class: 0.0\n",
      "|   |   |   |   |   |   |   |   |   |--- BMI >  29.50\n",
      "|   |   |   |   |   |   |   |   |   |   |--- class: 0.0\n",
      "|   |   |   |   |   |   |   |   |--- Age >  8.50\n",
      "|   |   |   |   |   |   |   |   |   |--- class: 0.0\n",
      "|   |   |   |   |   |   |   |--- HighChol >  0.50\n",
      "|   |   |   |   |   |   |   |   |--- PhysHlth <= 0.50\n",
      "|   |   |   |   |   |   |   |   |   |--- class: 1.0\n",
      "|   |   |   |   |   |   |   |   |--- PhysHlth >  0.50\n",
      "|   |   |   |   |   |   |   |   |   |--- class: 0.0\n",
      "|   |   |   |   |   |   |--- BMI >  31.50\n",
      "|   |   |   |   |   |   |   |--- Age <= 8.50\n",
      "|   |   |   |   |   |   |   |   |--- Income <= 4.50\n",
      "|   |   |   |   |   |   |   |   |   |--- class: 1.0\n",
      "|   |   |   |   |   |   |   |   |--- Income >  4.50\n",
      "|   |   |   |   |   |   |   |   |   |--- Education <= 5.50\n",
      "|   |   |   |   |   |   |   |   |   |   |--- class: 1.0\n",
      "|   |   |   |   |   |   |   |   |   |--- Education >  5.50\n",
      "|   |   |   |   |   |   |   |   |   |   |--- class: 0.0\n",
      "|   |   |   |   |   |   |   |--- Age >  8.50\n",
      "|   |   |   |   |   |   |   |   |--- Income <= 7.50\n",
      "|   |   |   |   |   |   |   |   |   |--- BMI <= 33.50\n",
      "|   |   |   |   |   |   |   |   |   |   |--- class: 1.0\n",
      "|   |   |   |   |   |   |   |   |   |--- BMI >  33.50\n",
      "|   |   |   |   |   |   |   |   |   |   |--- class: 1.0\n",
      "|   |   |   |   |   |   |   |   |--- Income >  7.50\n",
      "|   |   |   |   |   |   |   |   |   |--- class: 1.0\n",
      "|   |   |   |   |   |--- HeartDiseaseorAttack >  0.50\n",
      "|   |   |   |   |   |   |--- BMI <= 31.50\n",
      "|   |   |   |   |   |   |   |--- class: 1.0\n",
      "|   |   |   |   |   |   |--- BMI >  31.50\n",
      "|   |   |   |   |   |   |   |--- class: 1.0\n",
      "|   |   |   |   |--- GenHlth >  3.50\n",
      "|   |   |   |   |   |--- Age <= 9.50\n",
      "|   |   |   |   |   |   |--- BMI <= 32.50\n",
      "|   |   |   |   |   |   |   |--- HighChol <= 0.50\n",
      "|   |   |   |   |   |   |   |   |--- class: 1.0\n",
      "|   |   |   |   |   |   |   |--- HighChol >  0.50\n",
      "|   |   |   |   |   |   |   |   |--- Education <= 4.50\n",
      "|   |   |   |   |   |   |   |   |   |--- class: 1.0\n",
      "|   |   |   |   |   |   |   |   |--- Education >  4.50\n",
      "|   |   |   |   |   |   |   |   |   |--- class: 1.0\n",
      "|   |   |   |   |   |   |--- BMI >  32.50\n",
      "|   |   |   |   |   |   |   |--- Age <= 6.50\n",
      "|   |   |   |   |   |   |   |   |--- class: 1.0\n",
      "|   |   |   |   |   |   |   |--- Age >  6.50\n",
      "|   |   |   |   |   |   |   |   |--- HighChol <= 0.50\n",
      "|   |   |   |   |   |   |   |   |   |--- class: 1.0\n",
      "|   |   |   |   |   |   |   |   |--- HighChol >  0.50\n",
      "|   |   |   |   |   |   |   |   |   |--- BMI <= 37.50\n",
      "|   |   |   |   |   |   |   |   |   |   |--- class: 1.0\n",
      "|   |   |   |   |   |   |   |   |   |--- BMI >  37.50\n",
      "|   |   |   |   |   |   |   |   |   |   |--- class: 1.0\n",
      "|   |   |   |   |   |--- Age >  9.50\n",
      "|   |   |   |   |   |   |--- BMI <= 32.50\n",
      "|   |   |   |   |   |   |   |--- DiffWalk <= 0.50\n",
      "|   |   |   |   |   |   |   |   |--- class: 1.0\n",
      "|   |   |   |   |   |   |   |--- DiffWalk >  0.50\n",
      "|   |   |   |   |   |   |   |   |--- class: 1.0\n",
      "|   |   |   |   |   |   |--- BMI >  32.50\n",
      "|   |   |   |   |   |   |   |--- BMI <= 36.50\n",
      "|   |   |   |   |   |   |   |   |--- class: 1.0\n",
      "|   |   |   |   |   |   |   |--- BMI >  36.50\n",
      "|   |   |   |   |   |   |   |   |--- class: 1.0\n",
      "|--- HighBP >  0.50\n",
      "|   |--- GenHlth <= 2.50\n",
      "|   |   |--- BMI <= 30.50\n",
      "|   |   |   |--- Age <= 8.50\n",
      "|   |   |   |   |--- HighChol <= 0.50\n",
      "|   |   |   |   |   |--- Age <= 6.50\n",
      "|   |   |   |   |   |   |--- class: 0.0\n",
      "|   |   |   |   |   |--- Age >  6.50\n",
      "|   |   |   |   |   |   |--- BMI <= 26.50\n",
      "|   |   |   |   |   |   |   |--- class: 0.0\n",
      "|   |   |   |   |   |   |--- BMI >  26.50\n",
      "|   |   |   |   |   |   |   |--- class: 0.0\n",
      "|   |   |   |   |--- HighChol >  0.50\n",
      "|   |   |   |   |   |--- Education <= 4.50\n",
      "|   |   |   |   |   |   |--- class: 0.0\n",
      "|   |   |   |   |   |--- Education >  4.50\n",
      "|   |   |   |   |   |   |--- Age <= 6.50\n",
      "|   |   |   |   |   |   |   |--- class: 0.0\n",
      "|   |   |   |   |   |   |--- Age >  6.50\n",
      "|   |   |   |   |   |   |   |--- class: 0.0\n",
      "|   |   |   |--- Age >  8.50\n",
      "|   |   |   |   |--- BMI <= 23.50\n",
      "|   |   |   |   |   |--- Income <= 5.50\n",
      "|   |   |   |   |   |   |--- Age <= 11.50\n",
      "|   |   |   |   |   |   |   |--- class: 0.0\n",
      "|   |   |   |   |   |   |--- Age >  11.50\n",
      "|   |   |   |   |   |   |   |--- class: 0.0\n",
      "|   |   |   |   |   |--- Income >  5.50\n",
      "|   |   |   |   |   |   |--- GenHlth <= 1.50\n",
      "|   |   |   |   |   |   |   |--- class: 0.0\n",
      "|   |   |   |   |   |   |--- GenHlth >  1.50\n",
      "|   |   |   |   |   |   |   |--- HighChol <= 0.50\n",
      "|   |   |   |   |   |   |   |   |--- class: 0.0\n",
      "|   |   |   |   |   |   |   |--- HighChol >  0.50\n",
      "|   |   |   |   |   |   |   |   |--- class: 0.0\n",
      "|   |   |   |   |--- BMI >  23.50\n",
      "|   |   |   |   |   |--- GenHlth <= 1.50\n",
      "|   |   |   |   |   |   |--- BMI <= 26.50\n",
      "|   |   |   |   |   |   |   |--- class: 0.0\n",
      "|   |   |   |   |   |   |--- BMI >  26.50\n",
      "|   |   |   |   |   |   |   |--- HighChol <= 0.50\n",
      "|   |   |   |   |   |   |   |   |--- class: 0.0\n",
      "|   |   |   |   |   |   |   |--- HighChol >  0.50\n",
      "|   |   |   |   |   |   |   |   |--- class: 1.0\n",
      "|   |   |   |   |   |--- GenHlth >  1.50\n",
      "|   |   |   |   |   |   |--- Income <= 4.50\n",
      "|   |   |   |   |   |   |   |--- Income <= 2.50\n",
      "|   |   |   |   |   |   |   |   |--- class: 1.0\n",
      "|   |   |   |   |   |   |   |--- Income >  2.50\n",
      "|   |   |   |   |   |   |   |   |--- BMI <= 27.50\n",
      "|   |   |   |   |   |   |   |   |   |--- class: 1.0\n",
      "|   |   |   |   |   |   |   |   |--- BMI >  27.50\n",
      "|   |   |   |   |   |   |   |   |   |--- class: 1.0\n",
      "|   |   |   |   |   |   |--- Income >  4.50\n",
      "|   |   |   |   |   |   |   |--- HeartDiseaseorAttack <= 0.50\n",
      "|   |   |   |   |   |   |   |   |--- BMI <= 26.50\n",
      "|   |   |   |   |   |   |   |   |   |--- HighChol <= 0.50\n",
      "|   |   |   |   |   |   |   |   |   |   |--- class: 0.0\n",
      "|   |   |   |   |   |   |   |   |   |--- HighChol >  0.50\n",
      "|   |   |   |   |   |   |   |   |   |   |--- class: 0.0\n",
      "|   |   |   |   |   |   |   |   |--- BMI >  26.50\n",
      "|   |   |   |   |   |   |   |   |   |--- HighChol <= 0.50\n",
      "|   |   |   |   |   |   |   |   |   |   |--- class: 0.0\n",
      "|   |   |   |   |   |   |   |   |   |--- HighChol >  0.50\n",
      "|   |   |   |   |   |   |   |   |   |   |--- class: 1.0\n",
      "|   |   |   |   |   |   |   |--- HeartDiseaseorAttack >  0.50\n",
      "|   |   |   |   |   |   |   |   |--- class: 1.0\n",
      "|   |   |--- BMI >  30.50\n",
      "|   |   |   |--- Age <= 7.50\n",
      "|   |   |   |   |--- HighChol <= 0.50\n",
      "|   |   |   |   |   |--- Age <= 5.50\n",
      "|   |   |   |   |   |   |--- class: 0.0\n",
      "|   |   |   |   |   |--- Age >  5.50\n",
      "|   |   |   |   |   |   |--- class: 0.0\n",
      "|   |   |   |   |--- HighChol >  0.50\n",
      "|   |   |   |   |   |--- Income <= 6.50\n",
      "|   |   |   |   |   |   |--- class: 1.0\n",
      "|   |   |   |   |   |--- Income >  6.50\n",
      "|   |   |   |   |   |   |--- class: 1.0\n",
      "|   |   |   |--- Age >  7.50\n",
      "|   |   |   |   |--- HighChol <= 0.50\n",
      "|   |   |   |   |   |--- Age <= 10.50\n",
      "|   |   |   |   |   |   |--- BMI <= 32.50\n",
      "|   |   |   |   |   |   |   |--- class: 0.0\n",
      "|   |   |   |   |   |   |--- BMI >  32.50\n",
      "|   |   |   |   |   |   |   |--- Income <= 6.50\n",
      "|   |   |   |   |   |   |   |   |--- class: 1.0\n",
      "|   |   |   |   |   |   |   |--- Income >  6.50\n",
      "|   |   |   |   |   |   |   |   |--- class: 1.0\n",
      "|   |   |   |   |   |--- Age >  10.50\n",
      "|   |   |   |   |   |   |--- BMI <= 33.50\n",
      "|   |   |   |   |   |   |   |--- class: 1.0\n",
      "|   |   |   |   |   |   |--- BMI >  33.50\n",
      "|   |   |   |   |   |   |   |--- class: 1.0\n",
      "|   |   |   |   |--- HighChol >  0.50\n",
      "|   |   |   |   |   |--- BMI <= 33.50\n",
      "|   |   |   |   |   |   |--- Age <= 10.50\n",
      "|   |   |   |   |   |   |   |--- Income <= 6.50\n",
      "|   |   |   |   |   |   |   |   |--- class: 1.0\n",
      "|   |   |   |   |   |   |   |--- Income >  6.50\n",
      "|   |   |   |   |   |   |   |   |--- class: 1.0\n",
      "|   |   |   |   |   |   |--- Age >  10.50\n",
      "|   |   |   |   |   |   |   |--- class: 1.0\n",
      "|   |   |   |   |   |--- BMI >  33.50\n",
      "|   |   |   |   |   |   |--- Education <= 5.50\n",
      "|   |   |   |   |   |   |   |--- PhysHlth <= 0.50\n",
      "|   |   |   |   |   |   |   |   |--- Education <= 4.50\n",
      "|   |   |   |   |   |   |   |   |   |--- class: 1.0\n",
      "|   |   |   |   |   |   |   |   |--- Education >  4.50\n",
      "|   |   |   |   |   |   |   |   |   |--- class: 1.0\n",
      "|   |   |   |   |   |   |   |--- PhysHlth >  0.50\n",
      "|   |   |   |   |   |   |   |   |--- class: 1.0\n",
      "|   |   |   |   |   |   |--- Education >  5.50\n",
      "|   |   |   |   |   |   |   |--- class: 1.0\n",
      "|   |--- GenHlth >  2.50\n",
      "|   |   |--- BMI <= 28.50\n",
      "|   |   |   |--- HighChol <= 0.50\n",
      "|   |   |   |   |--- Age <= 8.50\n",
      "|   |   |   |   |   |--- BMI <= 25.50\n",
      "|   |   |   |   |   |   |--- GenHlth <= 3.50\n",
      "|   |   |   |   |   |   |   |--- class: 0.0\n",
      "|   |   |   |   |   |   |--- GenHlth >  3.50\n",
      "|   |   |   |   |   |   |   |--- class: 0.0\n",
      "|   |   |   |   |   |--- BMI >  25.50\n",
      "|   |   |   |   |   |   |--- Income <= 4.50\n",
      "|   |   |   |   |   |   |   |--- class: 1.0\n",
      "|   |   |   |   |   |   |--- Income >  4.50\n",
      "|   |   |   |   |   |   |   |--- class: 0.0\n",
      "|   |   |   |   |--- Age >  8.50\n",
      "|   |   |   |   |   |--- BMI <= 23.50\n",
      "|   |   |   |   |   |   |--- Income <= 3.50\n",
      "|   |   |   |   |   |   |   |--- class: 1.0\n",
      "|   |   |   |   |   |   |--- Income >  3.50\n",
      "|   |   |   |   |   |   |   |--- BMI <= 21.50\n",
      "|   |   |   |   |   |   |   |   |--- class: 0.0\n",
      "|   |   |   |   |   |   |   |--- BMI >  21.50\n",
      "|   |   |   |   |   |   |   |   |--- class: 1.0\n",
      "|   |   |   |   |   |--- BMI >  23.50\n",
      "|   |   |   |   |   |   |--- GenHlth <= 3.50\n",
      "|   |   |   |   |   |   |   |--- PhysHlth <= 0.50\n",
      "|   |   |   |   |   |   |   |   |--- Age <= 10.50\n",
      "|   |   |   |   |   |   |   |   |   |--- class: 1.0\n",
      "|   |   |   |   |   |   |   |   |--- Age >  10.50\n",
      "|   |   |   |   |   |   |   |   |   |--- class: 1.0\n",
      "|   |   |   |   |   |   |   |--- PhysHlth >  0.50\n",
      "|   |   |   |   |   |   |   |   |--- Income <= 5.50\n",
      "|   |   |   |   |   |   |   |   |   |--- class: 1.0\n",
      "|   |   |   |   |   |   |   |   |--- Income >  5.50\n",
      "|   |   |   |   |   |   |   |   |   |--- class: 1.0\n",
      "|   |   |   |   |   |   |--- GenHlth >  3.50\n",
      "|   |   |   |   |   |   |   |--- BMI <= 25.50\n",
      "|   |   |   |   |   |   |   |   |--- class: 1.0\n",
      "|   |   |   |   |   |   |   |--- BMI >  25.50\n",
      "|   |   |   |   |   |   |   |   |--- Education <= 4.50\n",
      "|   |   |   |   |   |   |   |   |   |--- class: 1.0\n",
      "|   |   |   |   |   |   |   |   |--- Education >  4.50\n",
      "|   |   |   |   |   |   |   |   |   |--- class: 1.0\n",
      "|   |   |   |--- HighChol >  0.50\n",
      "|   |   |   |   |--- GenHlth <= 3.50\n",
      "|   |   |   |   |   |--- BMI <= 24.50\n",
      "|   |   |   |   |   |   |--- BMI <= 21.50\n",
      "|   |   |   |   |   |   |   |--- class: 1.0\n",
      "|   |   |   |   |   |   |--- BMI >  21.50\n",
      "|   |   |   |   |   |   |   |--- Income <= 6.50\n",
      "|   |   |   |   |   |   |   |   |--- BMI <= 23.50\n",
      "|   |   |   |   |   |   |   |   |   |--- class: 1.0\n",
      "|   |   |   |   |   |   |   |   |--- BMI >  23.50\n",
      "|   |   |   |   |   |   |   |   |   |--- class: 1.0\n",
      "|   |   |   |   |   |   |   |--- Income >  6.50\n",
      "|   |   |   |   |   |   |   |   |--- class: 1.0\n",
      "|   |   |   |   |   |--- BMI >  24.50\n",
      "|   |   |   |   |   |   |--- DiffWalk <= 0.50\n",
      "|   |   |   |   |   |   |   |--- Education <= 5.50\n",
      "|   |   |   |   |   |   |   |   |--- Age <= 8.50\n",
      "|   |   |   |   |   |   |   |   |   |--- class: 1.0\n",
      "|   |   |   |   |   |   |   |   |--- Age >  8.50\n",
      "|   |   |   |   |   |   |   |   |   |--- Income <= 4.50\n",
      "|   |   |   |   |   |   |   |   |   |   |--- class: 1.0\n",
      "|   |   |   |   |   |   |   |   |   |--- Income >  4.50\n",
      "|   |   |   |   |   |   |   |   |   |   |--- class: 1.0\n",
      "|   |   |   |   |   |   |   |--- Education >  5.50\n",
      "|   |   |   |   |   |   |   |   |--- Income <= 7.50\n",
      "|   |   |   |   |   |   |   |   |   |--- class: 1.0\n",
      "|   |   |   |   |   |   |   |   |--- Income >  7.50\n",
      "|   |   |   |   |   |   |   |   |   |--- class: 1.0\n",
      "|   |   |   |   |   |   |--- DiffWalk >  0.50\n",
      "|   |   |   |   |   |   |   |--- Age <= 11.50\n",
      "|   |   |   |   |   |   |   |   |--- class: 1.0\n",
      "|   |   |   |   |   |   |   |--- Age >  11.50\n",
      "|   |   |   |   |   |   |   |   |--- class: 1.0\n",
      "|   |   |   |   |--- GenHlth >  3.50\n",
      "|   |   |   |   |   |--- BMI <= 23.50\n",
      "|   |   |   |   |   |   |--- PhysHlth <= 25.50\n",
      "|   |   |   |   |   |   |   |--- HeartDiseaseorAttack <= 0.50\n",
      "|   |   |   |   |   |   |   |   |--- PhysHlth <= 3.50\n",
      "|   |   |   |   |   |   |   |   |   |--- class: 1.0\n",
      "|   |   |   |   |   |   |   |   |--- PhysHlth >  3.50\n",
      "|   |   |   |   |   |   |   |   |   |--- class: 1.0\n",
      "|   |   |   |   |   |   |   |--- HeartDiseaseorAttack >  0.50\n",
      "|   |   |   |   |   |   |   |   |--- class: 1.0\n",
      "|   |   |   |   |   |   |--- PhysHlth >  25.50\n",
      "|   |   |   |   |   |   |   |--- class: 1.0\n",
      "|   |   |   |   |   |--- BMI >  23.50\n",
      "|   |   |   |   |   |   |--- HeartDiseaseorAttack <= 0.50\n",
      "|   |   |   |   |   |   |   |--- Income <= 6.50\n",
      "|   |   |   |   |   |   |   |   |--- Age <= 9.50\n",
      "|   |   |   |   |   |   |   |   |   |--- PhysHlth <= 6.50\n",
      "|   |   |   |   |   |   |   |   |   |   |--- class: 1.0\n",
      "|   |   |   |   |   |   |   |   |   |--- PhysHlth >  6.50\n",
      "|   |   |   |   |   |   |   |   |   |   |--- class: 1.0\n",
      "|   |   |   |   |   |   |   |   |--- Age >  9.50\n",
      "|   |   |   |   |   |   |   |   |   |--- PhysHlth <= 2.50\n",
      "|   |   |   |   |   |   |   |   |   |   |--- class: 1.0\n",
      "|   |   |   |   |   |   |   |   |   |--- PhysHlth >  2.50\n",
      "|   |   |   |   |   |   |   |   |   |   |--- class: 1.0\n",
      "|   |   |   |   |   |   |   |--- Income >  6.50\n",
      "|   |   |   |   |   |   |   |   |--- class: 1.0\n",
      "|   |   |   |   |   |   |--- HeartDiseaseorAttack >  0.50\n",
      "|   |   |   |   |   |   |   |--- DiffWalk <= 0.50\n",
      "|   |   |   |   |   |   |   |   |--- PhysHlth <= 5.50\n",
      "|   |   |   |   |   |   |   |   |   |--- class: 1.0\n",
      "|   |   |   |   |   |   |   |   |--- PhysHlth >  5.50\n",
      "|   |   |   |   |   |   |   |   |   |--- class: 1.0\n",
      "|   |   |   |   |   |   |   |--- DiffWalk >  0.50\n",
      "|   |   |   |   |   |   |   |   |--- GenHlth <= 4.50\n",
      "|   |   |   |   |   |   |   |   |   |--- PhysHlth <= 14.50\n",
      "|   |   |   |   |   |   |   |   |   |   |--- class: 1.0\n",
      "|   |   |   |   |   |   |   |   |   |--- PhysHlth >  14.50\n",
      "|   |   |   |   |   |   |   |   |   |   |--- class: 1.0\n",
      "|   |   |   |   |   |   |   |   |--- GenHlth >  4.50\n",
      "|   |   |   |   |   |   |   |   |   |--- class: 1.0\n",
      "|   |   |--- BMI >  28.50\n",
      "|   |   |   |--- GenHlth <= 3.50\n",
      "|   |   |   |   |--- Age <= 6.50\n",
      "|   |   |   |   |   |--- HighChol <= 0.50\n",
      "|   |   |   |   |   |   |--- Education <= 5.50\n",
      "|   |   |   |   |   |   |   |--- BMI <= 34.50\n",
      "|   |   |   |   |   |   |   |   |--- class: 0.0\n",
      "|   |   |   |   |   |   |   |--- BMI >  34.50\n",
      "|   |   |   |   |   |   |   |   |--- class: 1.0\n",
      "|   |   |   |   |   |   |--- Education >  5.50\n",
      "|   |   |   |   |   |   |   |--- class: 0.0\n",
      "|   |   |   |   |   |--- HighChol >  0.50\n",
      "|   |   |   |   |   |   |--- Income <= 6.50\n",
      "|   |   |   |   |   |   |   |--- BMI <= 35.50\n",
      "|   |   |   |   |   |   |   |   |--- class: 1.0\n",
      "|   |   |   |   |   |   |   |--- BMI >  35.50\n",
      "|   |   |   |   |   |   |   |   |--- class: 1.0\n",
      "|   |   |   |   |   |   |--- Income >  6.50\n",
      "|   |   |   |   |   |   |   |--- class: 1.0\n",
      "|   |   |   |   |--- Age >  6.50\n",
      "|   |   |   |   |   |--- BMI <= 31.50\n",
      "|   |   |   |   |   |   |--- Age <= 8.50\n",
      "|   |   |   |   |   |   |   |--- HighChol <= 0.50\n",
      "|   |   |   |   |   |   |   |   |--- class: 1.0\n",
      "|   |   |   |   |   |   |   |--- HighChol >  0.50\n",
      "|   |   |   |   |   |   |   |   |--- class: 1.0\n",
      "|   |   |   |   |   |   |--- Age >  8.50\n",
      "|   |   |   |   |   |   |   |--- Income <= 6.50\n",
      "|   |   |   |   |   |   |   |   |--- HighChol <= 0.50\n",
      "|   |   |   |   |   |   |   |   |   |--- Income <= 4.50\n",
      "|   |   |   |   |   |   |   |   |   |   |--- class: 1.0\n",
      "|   |   |   |   |   |   |   |   |   |--- Income >  4.50\n",
      "|   |   |   |   |   |   |   |   |   |   |--- class: 1.0\n",
      "|   |   |   |   |   |   |   |   |--- HighChol >  0.50\n",
      "|   |   |   |   |   |   |   |   |   |--- BMI <= 29.50\n",
      "|   |   |   |   |   |   |   |   |   |   |--- class: 1.0\n",
      "|   |   |   |   |   |   |   |   |   |--- BMI >  29.50\n",
      "|   |   |   |   |   |   |   |   |   |   |--- class: 1.0\n",
      "|   |   |   |   |   |   |   |--- Income >  6.50\n",
      "|   |   |   |   |   |   |   |   |--- BMI <= 30.50\n",
      "|   |   |   |   |   |   |   |   |   |--- Education <= 5.50\n",
      "|   |   |   |   |   |   |   |   |   |   |--- class: 1.0\n",
      "|   |   |   |   |   |   |   |   |   |--- Education >  5.50\n",
      "|   |   |   |   |   |   |   |   |   |   |--- class: 1.0\n",
      "|   |   |   |   |   |   |   |   |--- BMI >  30.50\n",
      "|   |   |   |   |   |   |   |   |   |--- class: 1.0\n",
      "|   |   |   |   |   |--- BMI >  31.50\n",
      "|   |   |   |   |   |   |--- HighChol <= 0.50\n",
      "|   |   |   |   |   |   |   |--- Age <= 8.50\n",
      "|   |   |   |   |   |   |   |   |--- BMI <= 36.50\n",
      "|   |   |   |   |   |   |   |   |   |--- class: 1.0\n",
      "|   |   |   |   |   |   |   |   |--- BMI >  36.50\n",
      "|   |   |   |   |   |   |   |   |   |--- class: 1.0\n",
      "|   |   |   |   |   |   |   |--- Age >  8.50\n",
      "|   |   |   |   |   |   |   |   |--- HeartDiseaseorAttack <= 0.50\n",
      "|   |   |   |   |   |   |   |   |   |--- Age <= 11.50\n",
      "|   |   |   |   |   |   |   |   |   |   |--- class: 1.0\n",
      "|   |   |   |   |   |   |   |   |   |--- Age >  11.50\n",
      "|   |   |   |   |   |   |   |   |   |   |--- class: 1.0\n",
      "|   |   |   |   |   |   |   |   |--- HeartDiseaseorAttack >  0.50\n",
      "|   |   |   |   |   |   |   |   |   |--- class: 1.0\n",
      "|   |   |   |   |   |   |--- HighChol >  0.50\n",
      "|   |   |   |   |   |   |   |--- Age <= 9.50\n",
      "|   |   |   |   |   |   |   |   |--- BMI <= 38.50\n",
      "|   |   |   |   |   |   |   |   |   |--- Age <= 7.50\n",
      "|   |   |   |   |   |   |   |   |   |   |--- class: 1.0\n",
      "|   |   |   |   |   |   |   |   |   |--- Age >  7.50\n",
      "|   |   |   |   |   |   |   |   |   |   |--- class: 1.0\n",
      "|   |   |   |   |   |   |   |   |--- BMI >  38.50\n",
      "|   |   |   |   |   |   |   |   |   |--- Age <= 8.50\n",
      "|   |   |   |   |   |   |   |   |   |   |--- class: 1.0\n",
      "|   |   |   |   |   |   |   |   |   |--- Age >  8.50\n",
      "|   |   |   |   |   |   |   |   |   |   |--- class: 1.0\n",
      "|   |   |   |   |   |   |   |--- Age >  9.50\n",
      "|   |   |   |   |   |   |   |   |--- PhysHlth <= 1.50\n",
      "|   |   |   |   |   |   |   |   |   |--- Age <= 11.50\n",
      "|   |   |   |   |   |   |   |   |   |   |--- class: 1.0\n",
      "|   |   |   |   |   |   |   |   |   |--- Age >  11.50\n",
      "|   |   |   |   |   |   |   |   |   |   |--- class: 1.0\n",
      "|   |   |   |   |   |   |   |   |--- PhysHlth >  1.50\n",
      "|   |   |   |   |   |   |   |   |   |--- BMI <= 38.50\n",
      "|   |   |   |   |   |   |   |   |   |   |--- class: 1.0\n",
      "|   |   |   |   |   |   |   |   |   |--- BMI >  38.50\n",
      "|   |   |   |   |   |   |   |   |   |   |--- class: 1.0\n",
      "|   |   |   |--- GenHlth >  3.50\n",
      "|   |   |   |   |--- HighChol <= 0.50\n",
      "|   |   |   |   |   |--- Age <= 7.50\n",
      "|   |   |   |   |   |   |--- BMI <= 38.50\n",
      "|   |   |   |   |   |   |   |--- Age <= 6.50\n",
      "|   |   |   |   |   |   |   |   |--- class: 1.0\n",
      "|   |   |   |   |   |   |   |--- Age >  6.50\n",
      "|   |   |   |   |   |   |   |   |--- class: 1.0\n",
      "|   |   |   |   |   |   |--- BMI >  38.50\n",
      "|   |   |   |   |   |   |   |--- class: 1.0\n",
      "|   |   |   |   |   |--- Age >  7.50\n",
      "|   |   |   |   |   |   |--- BMI <= 31.50\n",
      "|   |   |   |   |   |   |   |--- Age <= 10.50\n",
      "|   |   |   |   |   |   |   |   |--- class: 1.0\n",
      "|   |   |   |   |   |   |   |--- Age >  10.50\n",
      "|   |   |   |   |   |   |   |   |--- class: 1.0\n",
      "|   |   |   |   |   |   |--- BMI >  31.50\n",
      "|   |   |   |   |   |   |   |--- PhysHlth <= 5.50\n",
      "|   |   |   |   |   |   |   |   |--- PhysHlth <= 0.50\n",
      "|   |   |   |   |   |   |   |   |   |--- class: 1.0\n",
      "|   |   |   |   |   |   |   |   |--- PhysHlth >  0.50\n",
      "|   |   |   |   |   |   |   |   |   |--- class: 1.0\n",
      "|   |   |   |   |   |   |   |--- PhysHlth >  5.50\n",
      "|   |   |   |   |   |   |   |   |--- Income <= 3.50\n",
      "|   |   |   |   |   |   |   |   |   |--- class: 1.0\n",
      "|   |   |   |   |   |   |   |   |--- Income >  3.50\n",
      "|   |   |   |   |   |   |   |   |   |--- GenHlth <= 4.50\n",
      "|   |   |   |   |   |   |   |   |   |   |--- class: 1.0\n",
      "|   |   |   |   |   |   |   |   |   |--- GenHlth >  4.50\n",
      "|   |   |   |   |   |   |   |   |   |   |--- class: 1.0\n",
      "|   |   |   |   |--- HighChol >  0.50\n",
      "|   |   |   |   |   |--- BMI <= 32.50\n",
      "|   |   |   |   |   |   |--- Age <= 9.50\n",
      "|   |   |   |   |   |   |   |--- Education <= 3.50\n",
      "|   |   |   |   |   |   |   |   |--- class: 1.0\n",
      "|   |   |   |   |   |   |   |--- Education >  3.50\n",
      "|   |   |   |   |   |   |   |   |--- Income <= 4.50\n",
      "|   |   |   |   |   |   |   |   |   |--- Age <= 8.50\n",
      "|   |   |   |   |   |   |   |   |   |   |--- class: 1.0\n",
      "|   |   |   |   |   |   |   |   |   |--- Age >  8.50\n",
      "|   |   |   |   |   |   |   |   |   |   |--- class: 1.0\n",
      "|   |   |   |   |   |   |   |   |--- Income >  4.50\n",
      "|   |   |   |   |   |   |   |   |   |--- PhysHlth <= 6.50\n",
      "|   |   |   |   |   |   |   |   |   |   |--- class: 1.0\n",
      "|   |   |   |   |   |   |   |   |   |--- PhysHlth >  6.50\n",
      "|   |   |   |   |   |   |   |   |   |   |--- class: 1.0\n",
      "|   |   |   |   |   |   |--- Age >  9.50\n",
      "|   |   |   |   |   |   |   |--- Income <= 4.50\n",
      "|   |   |   |   |   |   |   |   |--- GenHlth <= 4.50\n",
      "|   |   |   |   |   |   |   |   |   |--- Age <= 11.50\n",
      "|   |   |   |   |   |   |   |   |   |   |--- class: 1.0\n",
      "|   |   |   |   |   |   |   |   |   |--- Age >  11.50\n",
      "|   |   |   |   |   |   |   |   |   |   |--- class: 1.0\n",
      "|   |   |   |   |   |   |   |   |--- GenHlth >  4.50\n",
      "|   |   |   |   |   |   |   |   |   |--- class: 1.0\n",
      "|   |   |   |   |   |   |   |--- Income >  4.50\n",
      "|   |   |   |   |   |   |   |   |--- BMI <= 30.50\n",
      "|   |   |   |   |   |   |   |   |   |--- PhysHlth <= 14.50\n",
      "|   |   |   |   |   |   |   |   |   |   |--- class: 1.0\n",
      "|   |   |   |   |   |   |   |   |   |--- PhysHlth >  14.50\n",
      "|   |   |   |   |   |   |   |   |   |   |--- class: 1.0\n",
      "|   |   |   |   |   |   |   |   |--- BMI >  30.50\n",
      "|   |   |   |   |   |   |   |   |   |--- class: 1.0\n",
      "|   |   |   |   |   |--- BMI >  32.50\n",
      "|   |   |   |   |   |   |--- Age <= 7.50\n",
      "|   |   |   |   |   |   |   |--- Age <= 4.50\n",
      "|   |   |   |   |   |   |   |   |--- class: 1.0\n",
      "|   |   |   |   |   |   |   |--- Age >  4.50\n",
      "|   |   |   |   |   |   |   |   |--- PhysHlth <= 0.50\n",
      "|   |   |   |   |   |   |   |   |   |--- class: 1.0\n",
      "|   |   |   |   |   |   |   |   |--- PhysHlth >  0.50\n",
      "|   |   |   |   |   |   |   |   |   |--- PhysHlth <= 27.50\n",
      "|   |   |   |   |   |   |   |   |   |   |--- class: 1.0\n",
      "|   |   |   |   |   |   |   |   |   |--- PhysHlth >  27.50\n",
      "|   |   |   |   |   |   |   |   |   |   |--- class: 1.0\n",
      "|   |   |   |   |   |   |--- Age >  7.50\n",
      "|   |   |   |   |   |   |   |--- BMI <= 38.50\n",
      "|   |   |   |   |   |   |   |   |--- GenHlth <= 4.50\n",
      "|   |   |   |   |   |   |   |   |   |--- DiffWalk <= 0.50\n",
      "|   |   |   |   |   |   |   |   |   |   |--- class: 1.0\n",
      "|   |   |   |   |   |   |   |   |   |--- DiffWalk >  0.50\n",
      "|   |   |   |   |   |   |   |   |   |   |--- class: 1.0\n",
      "|   |   |   |   |   |   |   |   |--- GenHlth >  4.50\n",
      "|   |   |   |   |   |   |   |   |   |--- PhysHlth <= 26.00\n",
      "|   |   |   |   |   |   |   |   |   |   |--- class: 1.0\n",
      "|   |   |   |   |   |   |   |   |   |--- PhysHlth >  26.00\n",
      "|   |   |   |   |   |   |   |   |   |   |--- class: 1.0\n",
      "|   |   |   |   |   |   |   |--- BMI >  38.50\n",
      "|   |   |   |   |   |   |   |   |--- Income <= 2.50\n",
      "|   |   |   |   |   |   |   |   |   |--- BMI <= 42.50\n",
      "|   |   |   |   |   |   |   |   |   |   |--- class: 1.0\n",
      "|   |   |   |   |   |   |   |   |   |--- BMI >  42.50\n",
      "|   |   |   |   |   |   |   |   |   |   |--- class: 1.0\n",
      "|   |   |   |   |   |   |   |   |--- Income >  2.50\n",
      "|   |   |   |   |   |   |   |   |   |--- PhysHlth <= 6.50\n",
      "|   |   |   |   |   |   |   |   |   |   |--- class: 1.0\n",
      "|   |   |   |   |   |   |   |   |   |--- PhysHlth >  6.50\n",
      "|   |   |   |   |   |   |   |   |   |   |--- class: 1.0\n",
      "\n"
     ]
    }
   ],
   "source": [
    "print(export_text(dt, feature_names=list(dv.get_feature_names_out())))"
   ]
  },
  {
   "cell_type": "code",
   "execution_count": 255,
   "id": "c64e76d9",
   "metadata": {},
   "outputs": [
    {
     "name": "stdout",
     "output_type": "stream",
     "text": [
      "|--- HighBP <= 0.50\n",
      "|   |--- GenHlth <= 2.50\n",
      "|   |   |--- Age <= 9.50\n",
      "|   |   |   |--- BMI <= 30.50\n",
      "|   |   |   |   |--- HighChol <= 0.50\n",
      "|   |   |   |   |   |--- GenHlth <= 1.50\n",
      "|   |   |   |   |   |   |--- class: 0.0\n",
      "|   |   |   |   |   |--- GenHlth >  1.50\n",
      "|   |   |   |   |   |   |--- class: 0.0\n",
      "|   |   |   |   |--- HighChol >  0.50\n",
      "|   |   |   |   |   |--- BMI <= 23.50\n",
      "|   |   |   |   |   |   |--- class: 0.0\n",
      "|   |   |   |   |   |--- BMI >  23.50\n",
      "|   |   |   |   |   |   |--- class: 0.0\n",
      "|   |   |   |--- BMI >  30.50\n",
      "|   |   |   |   |--- Age <= 6.50\n",
      "|   |   |   |   |   |--- HighChol <= 0.50\n",
      "|   |   |   |   |   |   |--- class: 0.0\n",
      "|   |   |   |   |   |--- HighChol >  0.50\n",
      "|   |   |   |   |   |   |--- class: 0.0\n",
      "|   |   |   |   |--- Age >  6.50\n",
      "|   |   |   |   |   |--- GenHlth <= 1.50\n",
      "|   |   |   |   |   |   |--- class: 0.0\n",
      "|   |   |   |   |   |--- GenHlth >  1.50\n",
      "|   |   |   |   |   |   |--- class: 0.0\n",
      "|   |   |--- Age >  9.50\n",
      "|   |   |   |--- BMI <= 25.50\n",
      "|   |   |   |   |--- Income <= 6.50\n",
      "|   |   |   |   |   |--- GenHlth <= 1.50\n",
      "|   |   |   |   |   |   |--- class: 0.0\n",
      "|   |   |   |   |   |--- GenHlth >  1.50\n",
      "|   |   |   |   |   |   |--- class: 0.0\n",
      "|   |   |   |   |--- Income >  6.50\n",
      "|   |   |   |   |   |--- HighChol <= 0.50\n",
      "|   |   |   |   |   |   |--- class: 0.0\n",
      "|   |   |   |   |   |--- HighChol >  0.50\n",
      "|   |   |   |   |   |   |--- class: 0.0\n",
      "|   |   |   |--- BMI >  25.50\n",
      "|   |   |   |   |--- GenHlth <= 1.50\n",
      "|   |   |   |   |   |--- PhysHlth <= 14.50\n",
      "|   |   |   |   |   |   |--- class: 0.0\n",
      "|   |   |   |   |   |--- PhysHlth >  14.50\n",
      "|   |   |   |   |   |   |--- class: 1.0\n",
      "|   |   |   |   |--- GenHlth >  1.50\n",
      "|   |   |   |   |   |--- HeartDiseaseorAttack <= 0.50\n",
      "|   |   |   |   |   |   |--- class: 0.0\n",
      "|   |   |   |   |   |--- HeartDiseaseorAttack >  0.50\n",
      "|   |   |   |   |   |   |--- class: 1.0\n",
      "|   |--- GenHlth >  2.50\n",
      "|   |   |--- Age <= 4.50\n",
      "|   |   |   |--- GenHlth <= 3.50\n",
      "|   |   |   |   |--- HighChol <= 0.50\n",
      "|   |   |   |   |   |--- BMI <= 38.50\n",
      "|   |   |   |   |   |   |--- class: 0.0\n",
      "|   |   |   |   |   |--- BMI >  38.50\n",
      "|   |   |   |   |   |   |--- class: 0.0\n",
      "|   |   |   |   |--- HighChol >  0.50\n",
      "|   |   |   |   |   |--- BMI <= 40.50\n",
      "|   |   |   |   |   |   |--- class: 0.0\n",
      "|   |   |   |   |   |--- BMI >  40.50\n",
      "|   |   |   |   |   |   |--- class: 1.0\n",
      "|   |   |   |--- GenHlth >  3.50\n",
      "|   |   |   |   |--- HighChol <= 0.50\n",
      "|   |   |   |   |   |--- BMI <= 34.50\n",
      "|   |   |   |   |   |   |--- class: 0.0\n",
      "|   |   |   |   |   |--- BMI >  34.50\n",
      "|   |   |   |   |   |   |--- class: 0.0\n",
      "|   |   |   |   |--- HighChol >  0.50\n",
      "|   |   |   |   |   |--- BMI <= 32.50\n",
      "|   |   |   |   |   |   |--- class: 1.0\n",
      "|   |   |   |   |   |--- BMI >  32.50\n",
      "|   |   |   |   |   |   |--- class: 1.0\n",
      "|   |   |--- Age >  4.50\n",
      "|   |   |   |--- BMI <= 27.50\n",
      "|   |   |   |   |--- HighChol <= 0.50\n",
      "|   |   |   |   |   |--- Age <= 8.50\n",
      "|   |   |   |   |   |   |--- class: 0.0\n",
      "|   |   |   |   |   |--- Age >  8.50\n",
      "|   |   |   |   |   |   |--- class: 0.0\n",
      "|   |   |   |   |--- HighChol >  0.50\n",
      "|   |   |   |   |   |--- GenHlth <= 3.50\n",
      "|   |   |   |   |   |   |--- class: 0.0\n",
      "|   |   |   |   |   |--- GenHlth >  3.50\n",
      "|   |   |   |   |   |   |--- class: 1.0\n",
      "|   |   |   |--- BMI >  27.50\n",
      "|   |   |   |   |--- GenHlth <= 3.50\n",
      "|   |   |   |   |   |--- HeartDiseaseorAttack <= 0.50\n",
      "|   |   |   |   |   |   |--- class: 1.0\n",
      "|   |   |   |   |   |--- HeartDiseaseorAttack >  0.50\n",
      "|   |   |   |   |   |   |--- class: 1.0\n",
      "|   |   |   |   |--- GenHlth >  3.50\n",
      "|   |   |   |   |   |--- Age <= 9.50\n",
      "|   |   |   |   |   |   |--- class: 1.0\n",
      "|   |   |   |   |   |--- Age >  9.50\n",
      "|   |   |   |   |   |   |--- class: 1.0\n",
      "|--- HighBP >  0.50\n",
      "|   |--- GenHlth <= 2.50\n",
      "|   |   |--- BMI <= 30.50\n",
      "|   |   |   |--- Age <= 8.50\n",
      "|   |   |   |   |--- HighChol <= 0.50\n",
      "|   |   |   |   |   |--- Age <= 6.50\n",
      "|   |   |   |   |   |   |--- class: 0.0\n",
      "|   |   |   |   |   |--- Age >  6.50\n",
      "|   |   |   |   |   |   |--- class: 0.0\n",
      "|   |   |   |   |--- HighChol >  0.50\n",
      "|   |   |   |   |   |--- DiffWalk <= 0.50\n",
      "|   |   |   |   |   |   |--- class: 0.0\n",
      "|   |   |   |   |   |--- DiffWalk >  0.50\n",
      "|   |   |   |   |   |   |--- class: 1.0\n",
      "|   |   |   |--- Age >  8.50\n",
      "|   |   |   |   |--- BMI <= 23.50\n",
      "|   |   |   |   |   |--- Income <= 5.50\n",
      "|   |   |   |   |   |   |--- class: 0.0\n",
      "|   |   |   |   |   |--- Income >  5.50\n",
      "|   |   |   |   |   |   |--- class: 0.0\n",
      "|   |   |   |   |--- BMI >  23.50\n",
      "|   |   |   |   |   |--- GenHlth <= 1.50\n",
      "|   |   |   |   |   |   |--- class: 0.0\n",
      "|   |   |   |   |   |--- GenHlth >  1.50\n",
      "|   |   |   |   |   |   |--- class: 1.0\n",
      "|   |   |--- BMI >  30.50\n",
      "|   |   |   |--- Age <= 7.50\n",
      "|   |   |   |   |--- HighChol <= 0.50\n",
      "|   |   |   |   |   |--- BMI <= 32.50\n",
      "|   |   |   |   |   |   |--- class: 0.0\n",
      "|   |   |   |   |   |--- BMI >  32.50\n",
      "|   |   |   |   |   |   |--- class: 0.0\n",
      "|   |   |   |   |--- HighChol >  0.50\n",
      "|   |   |   |   |   |--- Income <= 5.50\n",
      "|   |   |   |   |   |   |--- class: 1.0\n",
      "|   |   |   |   |   |--- Income >  5.50\n",
      "|   |   |   |   |   |   |--- class: 0.0\n",
      "|   |   |   |--- Age >  7.50\n",
      "|   |   |   |   |--- HighChol <= 0.50\n",
      "|   |   |   |   |   |--- Age <= 10.50\n",
      "|   |   |   |   |   |   |--- class: 1.0\n",
      "|   |   |   |   |   |--- Age >  10.50\n",
      "|   |   |   |   |   |   |--- class: 1.0\n",
      "|   |   |   |   |--- HighChol >  0.50\n",
      "|   |   |   |   |   |--- BMI <= 33.50\n",
      "|   |   |   |   |   |   |--- class: 1.0\n",
      "|   |   |   |   |   |--- BMI >  33.50\n",
      "|   |   |   |   |   |   |--- class: 1.0\n",
      "|   |--- GenHlth >  2.50\n",
      "|   |   |--- BMI <= 28.50\n",
      "|   |   |   |--- HighChol <= 0.50\n",
      "|   |   |   |   |--- Age <= 8.50\n",
      "|   |   |   |   |   |--- BMI <= 25.50\n",
      "|   |   |   |   |   |   |--- class: 0.0\n",
      "|   |   |   |   |   |--- BMI >  25.50\n",
      "|   |   |   |   |   |   |--- class: 1.0\n",
      "|   |   |   |   |--- Age >  8.50\n",
      "|   |   |   |   |   |--- BMI <= 23.50\n",
      "|   |   |   |   |   |   |--- class: 1.0\n",
      "|   |   |   |   |   |--- BMI >  23.50\n",
      "|   |   |   |   |   |   |--- class: 1.0\n",
      "|   |   |   |--- HighChol >  0.50\n",
      "|   |   |   |   |--- GenHlth <= 3.50\n",
      "|   |   |   |   |   |--- BMI <= 24.50\n",
      "|   |   |   |   |   |   |--- class: 1.0\n",
      "|   |   |   |   |   |--- BMI >  24.50\n",
      "|   |   |   |   |   |   |--- class: 1.0\n",
      "|   |   |   |   |--- GenHlth >  3.50\n",
      "|   |   |   |   |   |--- BMI <= 23.50\n",
      "|   |   |   |   |   |   |--- class: 1.0\n",
      "|   |   |   |   |   |--- BMI >  23.50\n",
      "|   |   |   |   |   |   |--- class: 1.0\n",
      "|   |   |--- BMI >  28.50\n",
      "|   |   |   |--- GenHlth <= 3.50\n",
      "|   |   |   |   |--- Age <= 6.50\n",
      "|   |   |   |   |   |--- HighChol <= 0.50\n",
      "|   |   |   |   |   |   |--- class: 0.0\n",
      "|   |   |   |   |   |--- HighChol >  0.50\n",
      "|   |   |   |   |   |   |--- class: 1.0\n",
      "|   |   |   |   |--- Age >  6.50\n",
      "|   |   |   |   |   |--- BMI <= 31.50\n",
      "|   |   |   |   |   |   |--- class: 1.0\n",
      "|   |   |   |   |   |--- BMI >  31.50\n",
      "|   |   |   |   |   |   |--- class: 1.0\n",
      "|   |   |   |--- GenHlth >  3.50\n",
      "|   |   |   |   |--- HighChol <= 0.50\n",
      "|   |   |   |   |   |--- Age <= 4.50\n",
      "|   |   |   |   |   |   |--- class: 0.0\n",
      "|   |   |   |   |   |--- Age >  4.50\n",
      "|   |   |   |   |   |   |--- class: 1.0\n",
      "|   |   |   |   |--- HighChol >  0.50\n",
      "|   |   |   |   |   |--- BMI <= 32.50\n",
      "|   |   |   |   |   |   |--- class: 1.0\n",
      "|   |   |   |   |   |--- BMI >  32.50\n",
      "|   |   |   |   |   |   |--- class: 1.0\n",
      "\n"
     ]
    }
   ],
   "source": [
    "dt = DecisionTreeClassifier(max_depth=6, min_samples_leaf=10)\n",
    "dt.fit(X_train, y_train)\n",
    "print(export_text(dt, feature_names=list(dv.get_feature_names_out())))"
   ]
  },
  {
   "cell_type": "markdown",
   "id": "d2a6fcbf",
   "metadata": {},
   "source": [
    "### Random forest"
   ]
  },
  {
   "cell_type": "code",
   "execution_count": 256,
   "id": "a0475ec8",
   "metadata": {},
   "outputs": [],
   "source": [
    "from sklearn.ensemble import RandomForestClassifier"
   ]
  },
  {
   "cell_type": "code",
   "execution_count": 257,
   "id": "f2a3031d",
   "metadata": {},
   "outputs": [],
   "source": [
    "scores = []\n",
    "\n",
    "for n in range(10, 201, 10):\n",
    "    rf = RandomForestClassifier(n_estimators=n, random_state=1)\n",
    "    rf.fit(X_train, y_train)\n",
    "\n",
    "    y_pred = rf.predict_proba(X_val)[:, 1]\n",
    "    auc = roc_auc_score(y_val, y_pred)\n",
    "    \n",
    "    scores.append((n, auc))"
   ]
  },
  {
   "cell_type": "code",
   "execution_count": 258,
   "id": "38991f18",
   "metadata": {},
   "outputs": [
    {
     "data": {
      "text/plain": [
       "[<matplotlib.lines.Line2D at 0x2b0d1e31f60>]"
      ]
     },
     "execution_count": 258,
     "metadata": {},
     "output_type": "execute_result"
    },
    {
     "data": {
      "image/png": "[encoded data removed]",
      "text/plain": [
       "<Figure size 640x480 with 1 Axes>"
      ]
     },
     "metadata": {},
     "output_type": "display_data"
    }
   ],
   "source": [
    "df_scores = pd.DataFrame(scores, columns=['n_estimators', 'auc'])\n",
    "plt.plot(df_scores.n_estimators, df_scores.auc)"
   ]
  },
  {
   "cell_type": "code",
   "execution_count": 259,
   "id": "1f797f9c",
   "metadata": {},
   "outputs": [],
   "source": [
    "scores = []\n",
    "\n",
    "for d in [5, 10, 15]:\n",
    "    for n in range(10, 201, 10):\n",
    "        rf = RandomForestClassifier(n_estimators=n,\n",
    "                                    max_depth=d,\n",
    "                                    random_state=1)\n",
    "        rf.fit(X_train, y_train)\n",
    "\n",
    "        y_pred = rf.predict_proba(X_val)[:, 1]\n",
    "        auc = roc_auc_score(y_val, y_pred)\n",
    "\n",
    "        scores.append((d, n, auc))"
   ]
  },
  {
   "cell_type": "code",
   "execution_count": 260,
   "id": "7958adda",
   "metadata": {},
   "outputs": [],
   "source": [
    "columns = ['max_depth', 'n_estimators', 'auc']\n",
    "df_scores = pd.DataFrame(scores, columns=columns)"
   ]
  },
  {
   "cell_type": "code",
   "execution_count": 261,
   "id": "9897b41f",
   "metadata": {},
   "outputs": [
    {
     "data": {
      "text/plain": [
       "<matplotlib.legend.Legend at 0x2b0d1e82140>"
      ]
     },
     "execution_count": 261,
     "metadata": {},
     "output_type": "execute_result"
    },
    {
     "data": {
      "image/png": "[encoded data removed]",
      "text/plain": [
       "<Figure size 640x480 with 1 Axes>"
      ]
     },
     "metadata": {},
     "output_type": "display_data"
    }
   ],
   "source": [
    "for d in [5, 10, 15]:\n",
    "    df_subset = df_scores[df_scores.max_depth == d]\n",
    "    \n",
    "    plt.plot(df_subset.n_estimators, df_subset.auc,\n",
    "             label='max_depth=%d' % d)\n",
    "\n",
    "plt.legend()"
   ]
  },
  {
   "cell_type": "code",
   "execution_count": 262,
   "id": "7251e3d5",
   "metadata": {},
   "outputs": [],
   "source": [
    "max_depth = 10"
   ]
  },
  {
   "cell_type": "code",
   "execution_count": 263,
   "id": "376a590b",
   "metadata": {},
   "outputs": [],
   "source": [
    "scores = []\n",
    "\n",
    "for s in [1, 3, 5, 10, 50]:\n",
    "    for n in range(10, 125, 10):\n",
    "        rf = RandomForestClassifier(n_estimators=n,\n",
    "                                    max_depth=max_depth,\n",
    "                                    min_samples_leaf=s,\n",
    "                                    random_state=1)\n",
    "        rf.fit(X_train, y_train)\n",
    "\n",
    "        y_pred = rf.predict_proba(X_val)[:, 1]\n",
    "        auc = roc_auc_score(y_val, y_pred)\n",
    "\n",
    "        scores.append((s, n, auc))"
   ]
  },
  {
   "cell_type": "code",
   "execution_count": 264,
   "id": "a3aba607",
   "metadata": {},
   "outputs": [],
   "source": [
    "columns = ['min_samples_leaf', 'n_estimators', 'auc']\n",
    "df_scores = pd.DataFrame(scores, columns=columns)"
   ]
  },
  {
   "cell_type": "code",
   "execution_count": 265,
   "id": "9592d7aa",
   "metadata": {},
   "outputs": [
    {
     "data": {
      "text/plain": [
       "<matplotlib.legend.Legend at 0x2b0d1e837f0>"
      ]
     },
     "execution_count": 265,
     "metadata": {},
     "output_type": "execute_result"
    },
    {
     "data": {
      "image/png": "[encoded data removed]",
      "text/plain": [
       "<Figure size 640x480 with 1 Axes>"
      ]
     },
     "metadata": {},
     "output_type": "display_data"
    }
   ],
   "source": [
    "colors = ['black', 'blue', 'orange', 'red', 'grey']\n",
    "values = [1, 3, 5, 10, 50]\n",
    "\n",
    "for s, col in zip(values, colors):\n",
    "    df_subset = df_scores[df_scores.min_samples_leaf == s]\n",
    "    \n",
    "    plt.plot(df_subset.n_estimators, df_subset.auc,\n",
    "             color=col,\n",
    "             label='min_samples_leaf=%d' % s)\n",
    "\n",
    "plt.legend()"
   ]
  },
  {
   "cell_type": "code",
   "execution_count": 266,
   "id": "dc4ff043",
   "metadata": {},
   "outputs": [],
   "source": [
    "min_samples_leaf = 5"
   ]
  },
  {
   "cell_type": "code",
   "execution_count": 269,
   "id": "b1385e42",
   "metadata": {},
   "outputs": [
    {
     "data": {
      "text/html": [
       "<style>#sk-container-id-3 {color: black;}#sk-container-id-3 pre{padding: 0;}#sk-container-id-3 div.sk-toggleable {background-color: white;}#sk-container-id-3 label.sk-toggleable__label {cursor: pointer;display: block;width: 100%;margin-bottom: 0;padding: 0.3em;box-sizing: border-box;text-align: center;}#sk-container-id-3 label.sk-toggleable__label-arrow:before {content: \"▸\";float: left;margin-right: 0.25em;color: #696969;}#sk-container-id-3 label.sk-toggleable__label-arrow:hover:before {color: black;}#sk-container-id-3 div.sk-estimator:hover label.sk-toggleable__label-arrow:before {color: black;}#sk-container-id-3 div.sk-toggleable__content {max-height: 0;max-width: 0;overflow: hidden;text-align: left;background-color: #f0f8ff;}#sk-container-id-3 div.sk-toggleable__content pre {margin: 0.2em;color: black;border-radius: 0.25em;background-color: #f0f8ff;}#sk-container-id-3 input.sk-toggleable__control:checked~div.sk-toggleable__content {max-height: 200px;max-width: 100%;overflow: auto;}#sk-container-id-3 input.sk-toggleable__control:checked~label.sk-toggleable__label-arrow:before {content: \"▾\";}#sk-container-id-3 div.sk-estimator input.sk-toggleable__control:checked~label.sk-toggleable__label {background-color: #d4ebff;}#sk-container-id-3 div.sk-label input.sk-toggleable__control:checked~label.sk-toggleable__label {background-color: #d4ebff;}#sk-container-id-3 input.sk-hidden--visually {border: 0;clip: rect(1px 1px 1px 1px);clip: rect(1px, 1px, 1px, 1px);height: 1px;margin: -1px;overflow: hidden;padding: 0;position: absolute;width: 1px;}#sk-container-id-3 div.sk-estimator {font-family: monospace;background-color: #f0f8ff;border: 1px dotted black;border-radius: 0.25em;box-sizing: border-box;margin-bottom: 0.5em;}#sk-container-id-3 div.sk-estimator:hover {background-color: #d4ebff;}#sk-container-id-3 div.sk-parallel-item::after {content: \"\";width: 100%;border-bottom: 1px solid gray;flex-grow: 1;}#sk-container-id-3 div.sk-label:hover label.sk-toggleable__label {background-color: #d4ebff;}#sk-container-id-3 div.sk-serial::before {content: \"\";position: absolute;border-left: 1px solid gray;box-sizing: border-box;top: 0;bottom: 0;left: 50%;z-index: 0;}#sk-container-id-3 div.sk-serial {display: flex;flex-direction: column;align-items: center;background-color: white;padding-right: 0.2em;padding-left: 0.2em;position: relative;}#sk-container-id-3 div.sk-item {position: relative;z-index: 1;}#sk-container-id-3 div.sk-parallel {display: flex;align-items: stretch;justify-content: center;background-color: white;position: relative;}#sk-container-id-3 div.sk-item::before, #sk-container-id-3 div.sk-parallel-item::before {content: \"\";position: absolute;border-left: 1px solid gray;box-sizing: border-box;top: 0;bottom: 0;left: 50%;z-index: -1;}#sk-container-id-3 div.sk-parallel-item {display: flex;flex-direction: column;z-index: 1;position: relative;background-color: white;}#sk-container-id-3 div.sk-parallel-item:first-child::after {align-self: flex-end;width: 50%;}#sk-container-id-3 div.sk-parallel-item:last-child::after {align-self: flex-start;width: 50%;}#sk-container-id-3 div.sk-parallel-item:only-child::after {width: 0;}#sk-container-id-3 div.sk-dashed-wrapped {border: 1px dashed gray;margin: 0 0.4em 0.5em 0.4em;box-sizing: border-box;padding-bottom: 0.4em;background-color: white;}#sk-container-id-3 div.sk-label label {font-family: monospace;font-weight: bold;display: inline-block;line-height: 1.2em;}#sk-container-id-3 div.sk-label-container {text-align: center;}#sk-container-id-3 div.sk-container {/* jupyter's `normalize.less` sets `[hidden] { display: none; }` but bootstrap.min.css set `[hidden] { display: none !important; }` so we also need the `!important` here to be able to override the default hidden behavior on the sphinx rendered scikit-learn.org. See: https://github.com/scikit-learn/scikit-learn/issues/21755 */display: inline-block !important;position: relative;}#sk-container-id-3 div.sk-text-repr-fallback {display: none;}</style><div id=\"sk-container-id-3\" class=\"sk-top-container\"><div class=\"sk-text-repr-fallback\"><pre>RandomForestClassifier(max_depth=10, min_samples_leaf=5, random_state=1)</pre><b>In a Jupyter environment, please rerun this cell to show the HTML representation or trust the notebook. <br />On GitHub, the HTML representation is unable to render, please try loading this page with nbviewer.org.</b></div><div class=\"sk-container\" hidden><div class=\"sk-item\"><div class=\"sk-estimator sk-toggleable\"><input class=\"sk-toggleable__control sk-hidden--visually\" id=\"sk-estimator-id-3\" type=\"checkbox\" checked><label for=\"sk-estimator-id-3\" class=\"sk-toggleable__label sk-toggleable__label-arrow\">RandomForestClassifier</label><div class=\"sk-toggleable__content\"><pre>RandomForestClassifier(max_depth=10, min_samples_leaf=5, random_state=1)</pre></div></div></div></div></div>"
      ],
      "text/plain": [
       "RandomForestClassifier(max_depth=10, min_samples_leaf=5, random_state=1)"
      ]
     },
     "execution_count": 269,
     "metadata": {},
     "output_type": "execute_result"
    }
   ],
   "source": [
    "rf = RandomForestClassifier(n_estimators=100,\n",
    "                            max_depth=max_depth,\n",
    "                            min_samples_leaf=min_samples_leaf,\n",
    "                            random_state=1)\n",
    "rf.fit(X_train, y_train)"
   ]
  },
  {
   "cell_type": "code",
   "execution_count": 270,
   "id": "7072e578",
   "metadata": {},
   "outputs": [
    {
     "name": "stdout",
     "output_type": "stream",
     "text": [
      "0.8178933316468744\n"
     ]
    }
   ],
   "source": [
    "y_pred = rf.predict_proba(X_val)[:, 1]\n",
    "print( roc_auc_score(y_val, y_pred))"
   ]
  },
  {
   "cell_type": "markdown",
   "id": "c3f21a46",
   "metadata": {},
   "source": [
    "### Xgboost"
   ]
  },
  {
   "cell_type": "code",
   "execution_count": 271,
   "id": "28fc7615",
   "metadata": {},
   "outputs": [],
   "source": [
    "import xgboost as xgb"
   ]
  },
  {
   "cell_type": "code",
   "execution_count": 274,
   "id": "47f3bd87",
   "metadata": {},
   "outputs": [],
   "source": [
    "#get x and y after removing duplicates\n",
    "def transform_io(df):\n",
    "    df_nodup = df[selected_features].copy()\n",
    "    dup_idx = df[df_nodup.duplicated()].index\n",
    "    x = df_nodup.drop_duplicates(keep='first')\n",
    "    train_dicts = x.to_dict(orient='records')\n",
    "    dv = DictVectorizer()\n",
    "    X_train = dv.fit_transform(train_dicts)\n",
    "    \n",
    "    df_y_nodup = df['Diabetes_binary'].copy()\n",
    "    df_y_nodup.drop(dup_idx, inplace=True)\n",
    "    y = df_y_nodup.values\n",
    "    \n",
    "    return X_train, y, dv"
   ]
  },
  {
   "cell_type": "code",
   "execution_count": 279,
   "id": "4e818fd4",
   "metadata": {},
   "outputs": [
    {
     "name": "stdout",
     "output_type": "stream",
     "text": [
      "['Age' 'BMI' 'DiffWalk' 'Education' 'GenHlth' 'HeartDiseaseorAttack'\n",
      " 'HighBP' 'HighChol' 'Income' 'PhysHlth']\n"
     ]
    }
   ],
   "source": [
    "X_train, y_train, dv = transform_io(df_train)\n",
    "X_val, y_val, dv = transform_io(df_val)\n",
    "features = dv.get_feature_names_out()\n",
    "print(features)\n",
    "dtrain = xgb.DMatrix(X_train, label=y_train, feature_names= list(features))\n",
    "dval = xgb.DMatrix(X_val, label=y_val, feature_names=list(features))"
   ]
  },
  {
   "cell_type": "code",
   "execution_count": 281,
   "id": "f6f0a0a8",
   "metadata": {},
   "outputs": [],
   "source": [
    "watchlist = [(dtrain, 'train'), (dval, 'val')]"
   ]
  },
  {
   "cell_type": "code",
   "execution_count": 284,
   "id": "1c6b5f66",
   "metadata": {},
   "outputs": [],
   "source": [
    "def parse_xgb_output(output):\n",
    "    results = []\n",
    "\n",
    "    for line in output.stdout.strip().split('\\n'):\n",
    "        it_line, train_line, val_line = line.split('\\t')\n",
    "\n",
    "        it = int(it_line.strip('[]'))\n",
    "        train = float(train_line.split(':')[1])\n",
    "        val = float(val_line.split(':')[1])\n",
    "\n",
    "        results.append((it, train, val))\n",
    "    \n",
    "    columns = ['num_iter', 'train_auc', 'val_auc']\n",
    "    df_results = pd.DataFrame(results, columns=columns)\n",
    "    return df_results"
   ]
  },
  {
   "cell_type": "code",
   "execution_count": 285,
   "id": "51df135f",
   "metadata": {},
   "outputs": [],
   "source": [
    "df_score = parse_xgb_output(output)"
   ]
  },
  {
   "cell_type": "code",
   "execution_count": 286,
   "id": "ce5ff740",
   "metadata": {},
   "outputs": [
    {
     "data": {
      "text/plain": [
       "<matplotlib.legend.Legend at 0x2b0d1195b70>"
      ]
     },
     "execution_count": 286,
     "metadata": {},
     "output_type": "execute_result"
    },
    {
     "data": {
      "image/png": "[encoded data removed]",
      "text/plain": [
       "<Figure size 640x480 with 1 Axes>"
      ]
     },
     "metadata": {},
     "output_type": "display_data"
    }
   ],
   "source": [
    "plt.plot(df_score.num_iter, df_score.train_auc, label='train')\n",
    "plt.plot(df_score.num_iter, df_score.val_auc, label='val')\n",
    "plt.legend()"
   ]
  },
  {
   "cell_type": "code",
   "execution_count": 288,
   "id": "0ac8f6aa",
   "metadata": {},
   "outputs": [],
   "source": [
    "scores = {}\n"
   ]
  },
  {
   "cell_type": "code",
   "execution_count": 289,
   "id": "ab310d73",
   "metadata": {},
   "outputs": [],
   "source": [
    "%%capture output\n",
    "\n",
    "xgb_params = {\n",
    "    'eta': 0.01, \n",
    "    'max_depth': 6,\n",
    "    'min_child_weight': 1,\n",
    "    \n",
    "    'objective': 'binary:logistic',\n",
    "    'eval_metric': 'auc',\n",
    "\n",
    "    'nthread': 8,\n",
    "    'seed': 1,\n",
    "    'verbosity': 1,\n",
    "}\n",
    "\n",
    "model = xgb.train(xgb_params, dtrain, num_boost_round=200,\n",
    "                  verbose_eval=5,\n",
    "                  evals=watchlist)"
   ]
  },
  {
   "cell_type": "code",
   "execution_count": 290,
   "id": "6c1fde98",
   "metadata": {},
   "outputs": [
    {
     "data": {
      "text/plain": [
       "'eta=0.01'"
      ]
     },
     "execution_count": 290,
     "metadata": {},
     "output_type": "execute_result"
    }
   ],
   "source": [
    "key = 'eta=%s' % (xgb_params['eta'])\n",
    "scores[key] = parse_xgb_output(output)\n",
    "key"
   ]
  },
  {
   "cell_type": "code",
   "execution_count": 291,
   "id": "291c1a07",
   "metadata": {},
   "outputs": [],
   "source": [
    "%%capture output\n",
    "\n",
    "xgb_params = {\n",
    "    'eta': 0.1, \n",
    "    'max_depth': 6,\n",
    "    'min_child_weight': 1,\n",
    "    \n",
    "    'objective': 'binary:logistic',\n",
    "    'eval_metric': 'auc',\n",
    "\n",
    "    'nthread': 8,\n",
    "    'seed': 1,\n",
    "    'verbosity': 1,\n",
    "}\n",
    "\n",
    "model = xgb.train(xgb_params, dtrain, num_boost_round=200,\n",
    "                  verbose_eval=5,\n",
    "                  evals=watchlist)"
   ]
  },
  {
   "cell_type": "code",
   "execution_count": 292,
   "id": "102891c5",
   "metadata": {},
   "outputs": [
    {
     "data": {
      "text/plain": [
       "'eta=0.1'"
      ]
     },
     "execution_count": 292,
     "metadata": {},
     "output_type": "execute_result"
    }
   ],
   "source": [
    "key = 'eta=%s' % (xgb_params['eta'])\n",
    "scores[key] = parse_xgb_output(output)\n",
    "key"
   ]
  },
  {
   "cell_type": "code",
   "execution_count": 295,
   "id": "b441f9fd",
   "metadata": {},
   "outputs": [],
   "source": [
    "%%capture output\n",
    "\n",
    "xgb_params = {\n",
    "    'eta': 0.5, \n",
    "    'max_depth': 6,\n",
    "    'min_child_weight': 1,\n",
    "    \n",
    "    'objective': 'binary:logistic',\n",
    "    'eval_metric': 'auc',\n",
    "\n",
    "    'nthread': 8,\n",
    "    'seed': 1,\n",
    "    'verbosity': 1,\n",
    "}\n",
    "\n",
    "model = xgb.train(xgb_params, dtrain, num_boost_round=200,\n",
    "                  verbose_eval=5,\n",
    "                  evals=watchlist)"
   ]
  },
  {
   "cell_type": "code",
   "execution_count": 296,
   "id": "0fc47530",
   "metadata": {},
   "outputs": [
    {
     "data": {
      "text/plain": [
       "'eta=0.5'"
      ]
     },
     "execution_count": 296,
     "metadata": {},
     "output_type": "execute_result"
    }
   ],
   "source": [
    "key = 'eta=%s' % (xgb_params['eta'])\n",
    "scores[key] = parse_xgb_output(output)\n",
    "key"
   ]
  },
  {
   "cell_type": "code",
   "execution_count": 298,
   "id": "357ff848",
   "metadata": {},
   "outputs": [],
   "source": [
    "%%capture output\n",
    "\n",
    "xgb_params = {\n",
    "    'eta': 0.3, \n",
    "    'max_depth': 6,\n",
    "    'min_child_weight': 1,\n",
    "    \n",
    "    'objective': 'binary:logistic',\n",
    "    'eval_metric': 'auc',\n",
    "\n",
    "    'nthread': 8,\n",
    "    'seed': 1,\n",
    "    'verbosity': 1,\n",
    "}\n",
    "\n",
    "model = xgb.train(xgb_params, dtrain, num_boost_round=200,\n",
    "                  verbose_eval=5,\n",
    "                  evals=watchlist)"
   ]
  },
  {
   "cell_type": "code",
   "execution_count": 299,
   "id": "c24006b4",
   "metadata": {},
   "outputs": [
    {
     "data": {
      "text/plain": [
       "'eta=0.3'"
      ]
     },
     "execution_count": 299,
     "metadata": {},
     "output_type": "execute_result"
    }
   ],
   "source": [
    "key = 'eta=%s' % (xgb_params['eta'])\n",
    "scores[key] = parse_xgb_output(output)\n",
    "key"
   ]
  },
  {
   "cell_type": "code",
   "execution_count": 300,
   "id": "eab607c5",
   "metadata": {},
   "outputs": [
    {
     "data": {
      "text/plain": [
       "dict_keys(['eta=0.01', 'eta=0.1', 'eta=0.5', 'eta=0.3'])"
      ]
     },
     "execution_count": 300,
     "metadata": {},
     "output_type": "execute_result"
    }
   ],
   "source": [
    "scores.keys()"
   ]
  },
  {
   "cell_type": "code",
   "execution_count": 301,
   "id": "af9af3bb",
   "metadata": {},
   "outputs": [
    {
     "data": {
      "text/plain": [
       "<matplotlib.legend.Legend at 0x2b0d06e9d20>"
      ]
     },
     "execution_count": 301,
     "metadata": {},
     "output_type": "execute_result"
    },
    {
     "data": {
      "image/png": "[encoded data removed]",
      "text/plain": [
       "<Figure size 640x480 with 1 Axes>"
      ]
     },
     "metadata": {},
     "output_type": "display_data"
    }
   ],
   "source": [
    "for key, df_score in scores.items():\n",
    "    plt.plot(df_score.num_iter, df_score.val_auc, label=key)\n",
    "plt.legend()"
   ]
  },
  {
   "cell_type": "code",
   "execution_count": 306,
   "id": "d7c21a5d",
   "metadata": {},
   "outputs": [],
   "source": [
    "%%capture output\n",
    "\n",
    "xgb_params = {\n",
    "    'eta': 0.001, \n",
    "    'max_depth': 6,\n",
    "    'min_child_weight': 1,\n",
    "    \n",
    "    'objective': 'binary:logistic',\n",
    "    'eval_metric': 'auc',\n",
    "\n",
    "    'nthread': 8,\n",
    "    'seed': 1,\n",
    "    'verbosity': 1,\n",
    "}\n",
    "\n",
    "model = xgb.train(xgb_params, dtrain, num_boost_round=200,\n",
    "                  verbose_eval=5,\n",
    "                  evals=watchlist)\n"
   ]
  },
  {
   "cell_type": "code",
   "execution_count": 307,
   "id": "cb830a03",
   "metadata": {},
   "outputs": [
    {
     "data": {
      "text/plain": [
       "'eta=0.001'"
      ]
     },
     "execution_count": 307,
     "metadata": {},
     "output_type": "execute_result"
    }
   ],
   "source": [
    "key = 'eta=%s' % (xgb_params['eta'])\n",
    "scores[key] = parse_xgb_output(output)\n",
    "key"
   ]
  },
  {
   "cell_type": "code",
   "execution_count": 308,
   "id": "4adf1e9a",
   "metadata": {},
   "outputs": [],
   "source": [
    "%%capture output\n",
    "\n",
    "xgb_params = {\n",
    "    'eta': 0.005, \n",
    "    'max_depth': 6,\n",
    "    'min_child_weight': 1,\n",
    "    \n",
    "    'objective': 'binary:logistic',\n",
    "    'eval_metric': 'auc',\n",
    "\n",
    "    'nthread': 8,\n",
    "    'seed': 1,\n",
    "    'verbosity': 1,\n",
    "}\n",
    "\n",
    "model = xgb.train(xgb_params, dtrain, num_boost_round=200,\n",
    "                  verbose_eval=5,\n",
    "                  evals=watchlist)\n"
   ]
  },
  {
   "cell_type": "code",
   "execution_count": 309,
   "id": "d5af9af2",
   "metadata": {},
   "outputs": [
    {
     "data": {
      "text/plain": [
       "'eta=0.005'"
      ]
     },
     "execution_count": 309,
     "metadata": {},
     "output_type": "execute_result"
    }
   ],
   "source": [
    "key = 'eta=%s' % (xgb_params['eta'])\n",
    "scores[key] = parse_xgb_output(output)\n",
    "key"
   ]
  },
  {
   "cell_type": "code",
   "execution_count": 314,
   "id": "70a4f2da",
   "metadata": {},
   "outputs": [],
   "source": [
    "del scores['eta=0.005']\n",
    "del scores['eta=0.5']\n",
    "del scores['eta=0.3']"
   ]
  },
  {
   "cell_type": "code",
   "execution_count": 316,
   "id": "66fbab50",
   "metadata": {},
   "outputs": [],
   "source": [
    "%%capture output\n",
    "\n",
    "xgb_params = {\n",
    "    'eta': 0.05, \n",
    "    'max_depth': 6,\n",
    "    'min_child_weight': 1,\n",
    "    \n",
    "    'objective': 'binary:logistic',\n",
    "    'eval_metric': 'auc',\n",
    "\n",
    "    'nthread': 8,\n",
    "    'seed': 1,\n",
    "    'verbosity': 1,\n",
    "}\n",
    "\n",
    "model = xgb.train(xgb_params, dtrain, num_boost_round=200,\n",
    "                  verbose_eval=5,\n",
    "                  evals=watchlist)"
   ]
  },
  {
   "cell_type": "code",
   "execution_count": 317,
   "id": "649b56f6",
   "metadata": {},
   "outputs": [
    {
     "data": {
      "text/plain": [
       "'eta=0.05'"
      ]
     },
     "execution_count": 317,
     "metadata": {},
     "output_type": "execute_result"
    }
   ],
   "source": [
    "key = 'eta=%s' % (xgb_params['eta'])\n",
    "scores[key] = parse_xgb_output(output)\n",
    "key"
   ]
  },
  {
   "cell_type": "code",
   "execution_count": 318,
   "id": "435ed6e0",
   "metadata": {},
   "outputs": [],
   "source": [
    "%%capture output\n",
    "\n",
    "xgb_params = {\n",
    "    'eta': 0.08, \n",
    "    'max_depth': 6,\n",
    "    'min_child_weight': 1,\n",
    "    \n",
    "    'objective': 'binary:logistic',\n",
    "    'eval_metric': 'auc',\n",
    "\n",
    "    'nthread': 8,\n",
    "    'seed': 1,\n",
    "    'verbosity': 1,\n",
    "}\n",
    "\n",
    "model = xgb.train(xgb_params, dtrain, num_boost_round=200,\n",
    "                  verbose_eval=5,\n",
    "                  evals=watchlist)"
   ]
  },
  {
   "cell_type": "code",
   "execution_count": 319,
   "id": "abdab601",
   "metadata": {},
   "outputs": [
    {
     "data": {
      "text/plain": [
       "'eta=0.08'"
      ]
     },
     "execution_count": 319,
     "metadata": {},
     "output_type": "execute_result"
    }
   ],
   "source": [
    "key = 'eta=%s' % (xgb_params['eta'])\n",
    "scores[key] = parse_xgb_output(output)\n",
    "key"
   ]
  },
  {
   "cell_type": "code",
   "execution_count": 321,
   "id": "d7c62a21",
   "metadata": {},
   "outputs": [
    {
     "data": {
      "text/plain": [
       "<matplotlib.legend.Legend at 0x2b0d3ba0fd0>"
      ]
     },
     "execution_count": 321,
     "metadata": {},
     "output_type": "execute_result"
    },
    {
     "data": {
      "image/png": "[encoded data removed]",
      "text/plain": [
       "<Figure size 640x480 with 1 Axes>"
      ]
     },
     "metadata": {},
     "output_type": "display_data"
    }
   ],
   "source": [
    "for key, df_score in scores.items():\n",
    "        plt.plot(df_score.num_iter, df_score.val_auc, label=key)\n",
    "plt.ylim(0.807, 0.82)\n",
    "plt.legend()"
   ]
  },
  {
   "cell_type": "code",
   "execution_count": 322,
   "id": "b27bdedd",
   "metadata": {},
   "outputs": [],
   "source": [
    "scores = {}"
   ]
  },
  {
   "cell_type": "code",
   "execution_count": 323,
   "id": "e3150628",
   "metadata": {},
   "outputs": [],
   "source": [
    "%%capture output\n",
    "\n",
    "xgb_params = {\n",
    "    'eta': 0.08, \n",
    "    'max_depth': 10,\n",
    "    'min_child_weight': 1,\n",
    "    \n",
    "    'objective': 'binary:logistic',\n",
    "    'eval_metric': 'auc',\n",
    "\n",
    "    'nthread': 8,\n",
    "    'seed': 1,\n",
    "    'verbosity': 1,\n",
    "}\n",
    "\n",
    "model = xgb.train(xgb_params, dtrain, num_boost_round=200,\n",
    "                  verbose_eval=5,\n",
    "                  evals=watchlist)"
   ]
  },
  {
   "cell_type": "code",
   "execution_count": 324,
   "id": "2c883069",
   "metadata": {},
   "outputs": [
    {
     "data": {
      "text/plain": [
       "'max_depth=10'"
      ]
     },
     "execution_count": 324,
     "metadata": {},
     "output_type": "execute_result"
    }
   ],
   "source": [
    "key = 'max_depth=%s' % (xgb_params['max_depth'])\n",
    "scores[key] = parse_xgb_output(output)\n",
    "key"
   ]
  },
  {
   "cell_type": "code",
   "execution_count": 327,
   "id": "e0d171bf",
   "metadata": {},
   "outputs": [],
   "source": [
    "%%capture output\n",
    "\n",
    "xgb_params = {\n",
    "    'eta': 0.08, \n",
    "    'max_depth': 5,\n",
    "    'min_child_weight': 1,\n",
    "    \n",
    "    'objective': 'binary:logistic',\n",
    "    'eval_metric': 'auc',\n",
    "\n",
    "    'nthread': 8,\n",
    "    'seed': 1,\n",
    "    'verbosity': 1,\n",
    "}\n",
    "\n",
    "model = xgb.train(xgb_params, dtrain, num_boost_round=200,\n",
    "                  verbose_eval=5,\n",
    "                  evals=watchlist)"
   ]
  },
  {
   "cell_type": "code",
   "execution_count": 328,
   "id": "b79fef27",
   "metadata": {},
   "outputs": [
    {
     "data": {
      "text/plain": [
       "'max_depth=5'"
      ]
     },
     "execution_count": 328,
     "metadata": {},
     "output_type": "execute_result"
    }
   ],
   "source": [
    "key = 'max_depth=%s' % (xgb_params['max_depth'])\n",
    "scores[key] = parse_xgb_output(output)\n",
    "key"
   ]
  },
  {
   "cell_type": "code",
   "execution_count": 329,
   "id": "dbeeff5f",
   "metadata": {},
   "outputs": [],
   "source": [
    "%%capture output\n",
    "\n",
    "xgb_params = {\n",
    "    'eta': 0.08, \n",
    "    'max_depth': 20,\n",
    "    'min_child_weight': 1,\n",
    "    \n",
    "    'objective': 'binary:logistic',\n",
    "    'eval_metric': 'auc',\n",
    "\n",
    "    'nthread': 8,\n",
    "    'seed': 1,\n",
    "    'verbosity': 1,\n",
    "}\n",
    "\n",
    "model = xgb.train(xgb_params, dtrain, num_boost_round=200,\n",
    "                  verbose_eval=5,\n",
    "                  evals=watchlist)"
   ]
  },
  {
   "cell_type": "code",
   "execution_count": 330,
   "id": "684bd926",
   "metadata": {},
   "outputs": [
    {
     "data": {
      "text/plain": [
       "'max_depth=20'"
      ]
     },
     "execution_count": 330,
     "metadata": {},
     "output_type": "execute_result"
    }
   ],
   "source": [
    "key = 'max_depth=%s' % (xgb_params['max_depth'])\n",
    "scores[key] = parse_xgb_output(output)\n",
    "key"
   ]
  },
  {
   "cell_type": "code",
   "execution_count": 333,
   "id": "99d88385",
   "metadata": {},
   "outputs": [],
   "source": [
    "del scores['max_depth=20']"
   ]
  },
  {
   "cell_type": "code",
   "execution_count": 336,
   "id": "97f31314",
   "metadata": {},
   "outputs": [],
   "source": [
    "%%capture output\n",
    "\n",
    "xgb_params = {\n",
    "    'eta': 0.08, \n",
    "    'max_depth': 1,\n",
    "    'min_child_weight': 1,\n",
    "    \n",
    "    'objective': 'binary:logistic',\n",
    "    'eval_metric': 'auc',\n",
    "\n",
    "    'nthread': 8,\n",
    "    'seed': 1,\n",
    "    'verbosity': 1,\n",
    "}\n",
    "\n",
    "model = xgb.train(xgb_params, dtrain, num_boost_round=200,\n",
    "                  verbose_eval=5,\n",
    "                  evals=watchlist)"
   ]
  },
  {
   "cell_type": "code",
   "execution_count": 337,
   "id": "f6a9386e",
   "metadata": {},
   "outputs": [
    {
     "data": {
      "text/plain": [
       "'max_depth=1'"
      ]
     },
     "execution_count": 337,
     "metadata": {},
     "output_type": "execute_result"
    }
   ],
   "source": [
    "key = 'max_depth=%s' % (xgb_params['max_depth'])\n",
    "scores[key] = parse_xgb_output(output)\n",
    "key"
   ]
  },
  {
   "cell_type": "code",
   "execution_count": 338,
   "id": "364b3984",
   "metadata": {},
   "outputs": [],
   "source": [
    "%%capture output\n",
    "\n",
    "xgb_params = {\n",
    "    'eta': 0.08, \n",
    "    'max_depth': 3,\n",
    "    'min_child_weight': 1,\n",
    "    \n",
    "    'objective': 'binary:logistic',\n",
    "    'eval_metric': 'auc',\n",
    "\n",
    "    'nthread': 8,\n",
    "    'seed': 1,\n",
    "    'verbosity': 1,\n",
    "}\n",
    "\n",
    "model = xgb.train(xgb_params, dtrain, num_boost_round=200,\n",
    "                  verbose_eval=5,\n",
    "                  evals=watchlist)"
   ]
  },
  {
   "cell_type": "code",
   "execution_count": 339,
   "id": "46928617",
   "metadata": {},
   "outputs": [
    {
     "data": {
      "text/plain": [
       "'max_depth=3'"
      ]
     },
     "execution_count": 339,
     "metadata": {},
     "output_type": "execute_result"
    }
   ],
   "source": [
    "key = 'max_depth=%s' % (xgb_params['max_depth'])\n",
    "scores[key] = parse_xgb_output(output)\n",
    "key"
   ]
  },
  {
   "cell_type": "code",
   "execution_count": 343,
   "id": "2fb17a17",
   "metadata": {},
   "outputs": [
    {
     "data": {
      "text/plain": [
       "<matplotlib.legend.Legend at 0x2b0d035ac80>"
      ]
     },
     "execution_count": 343,
     "metadata": {},
     "output_type": "execute_result"
    },
    {
     "data": {
      "image/png": "[encoded data removed]",
      "text/plain": [
       "<Figure size 640x480 with 1 Axes>"
      ]
     },
     "metadata": {},
     "output_type": "display_data"
    }
   ],
   "source": [
    "for max_depth, df_score in scores.items():\n",
    "    plt.plot(df_score.num_iter, df_score.val_auc, label=max_depth)\n",
    "plt.ylim(0.81, 0.83)\n",
    "plt.legend()"
   ]
  },
  {
   "cell_type": "code",
   "execution_count": 344,
   "id": "93e3fc5d",
   "metadata": {},
   "outputs": [],
   "source": [
    "scores = {}"
   ]
  },
  {
   "cell_type": "code",
   "execution_count": 345,
   "id": "279a97c5",
   "metadata": {},
   "outputs": [],
   "source": [
    "%%capture output\n",
    "\n",
    "xgb_params = {\n",
    "    'eta': 0.08, \n",
    "    'max_depth': 3,\n",
    "    'min_child_weight': 1,\n",
    "    \n",
    "    'objective': 'binary:logistic',\n",
    "    'eval_metric': 'auc',\n",
    "\n",
    "    'nthread': 8,\n",
    "    'seed': 1,\n",
    "    'verbosity': 1,\n",
    "}\n",
    "\n",
    "model = xgb.train(xgb_params, dtrain, num_boost_round=200,\n",
    "                  verbose_eval=5,\n",
    "                  evals=watchlist)"
   ]
  },
  {
   "cell_type": "code",
   "execution_count": 346,
   "id": "c9e01b1d",
   "metadata": {},
   "outputs": [
    {
     "data": {
      "text/plain": [
       "'min_child_weight=1'"
      ]
     },
     "execution_count": 346,
     "metadata": {},
     "output_type": "execute_result"
    }
   ],
   "source": [
    "key = 'min_child_weight=%s' % (xgb_params['min_child_weight'])\n",
    "scores[key] = parse_xgb_output(output)\n",
    "key"
   ]
  },
  {
   "cell_type": "code",
   "execution_count": 347,
   "id": "d04be718",
   "metadata": {},
   "outputs": [],
   "source": [
    "%%capture output\n",
    "\n",
    "xgb_params = {\n",
    "    'eta': 0.08, \n",
    "    'max_depth': 3,\n",
    "    'min_child_weight': 10,\n",
    "    \n",
    "    'objective': 'binary:logistic',\n",
    "    'eval_metric': 'auc',\n",
    "\n",
    "    'nthread': 8,\n",
    "    'seed': 1,\n",
    "    'verbosity': 1,\n",
    "}\n",
    "\n",
    "model = xgb.train(xgb_params, dtrain, num_boost_round=200,\n",
    "                  verbose_eval=5,\n",
    "                  evals=watchlist)"
   ]
  },
  {
   "cell_type": "code",
   "execution_count": 348,
   "id": "3b5af5c9",
   "metadata": {},
   "outputs": [
    {
     "data": {
      "text/plain": [
       "'min_child_weight=10'"
      ]
     },
     "execution_count": 348,
     "metadata": {},
     "output_type": "execute_result"
    }
   ],
   "source": [
    "key = 'min_child_weight=%s' % (xgb_params['min_child_weight'])\n",
    "scores[key] = parse_xgb_output(output)\n",
    "key"
   ]
  },
  {
   "cell_type": "code",
   "execution_count": 349,
   "id": "a5a9a780",
   "metadata": {},
   "outputs": [],
   "source": [
    "%%capture output\n",
    "\n",
    "xgb_params = {\n",
    "    'eta': 0.08, \n",
    "    'max_depth': 3,\n",
    "    'min_child_weight': 30,\n",
    "    \n",
    "    'objective': 'binary:logistic',\n",
    "    'eval_metric': 'auc',\n",
    "\n",
    "    'nthread': 8,\n",
    "    'seed': 1,\n",
    "    'verbosity': 1,\n",
    "}\n",
    "\n",
    "model = xgb.train(xgb_params, dtrain, num_boost_round=200,\n",
    "                  verbose_eval=5,\n",
    "                  evals=watchlist)"
   ]
  },
  {
   "cell_type": "code",
   "execution_count": 350,
   "id": "5904b1f6",
   "metadata": {},
   "outputs": [
    {
     "data": {
      "text/plain": [
       "'min_child_weight=30'"
      ]
     },
     "execution_count": 350,
     "metadata": {},
     "output_type": "execute_result"
    }
   ],
   "source": [
    "key = 'min_child_weight=%s' % (xgb_params['min_child_weight'])\n",
    "scores[key] = parse_xgb_output(output)\n",
    "key"
   ]
  },
  {
   "cell_type": "code",
   "execution_count": 352,
   "id": "0eb6434a",
   "metadata": {},
   "outputs": [
    {
     "data": {
      "text/plain": [
       "<matplotlib.legend.Legend at 0x2b0d3803970>"
      ]
     },
     "execution_count": 352,
     "metadata": {},
     "output_type": "execute_result"
    },
    {
     "data": {
      "image/png": "[encoded data removed]",
      "text/plain": [
       "<Figure size 640x480 with 1 Axes>"
      ]
     },
     "metadata": {},
     "output_type": "display_data"
    }
   ],
   "source": [
    "for max_depth, df_score in scores.items():\n",
    "    plt.plot(df_score.num_iter, df_score.val_auc, label=max_depth)\n",
    "plt.ylim(0.81, 0.822)\n",
    "plt.legend()"
   ]
  },
  {
   "cell_type": "markdown",
   "id": "46de5f49",
   "metadata": {},
   "source": [
    "Final Xgboost Model"
   ]
  },
  {
   "cell_type": "code",
   "execution_count": 354,
   "id": "5ab9b33d",
   "metadata": {},
   "outputs": [],
   "source": [
    "xgb_params = {\n",
    "    'eta': 0.08, \n",
    "    'max_depth': 3,\n",
    "    'min_child_weight': 10,\n",
    "\n",
    "    'objective': 'binary:logistic',\n",
    "    'eval_metric': 'auc',\n",
    "\n",
    "    'nthread': 8,\n",
    "    'seed': 1,\n",
    "    'verbosity': 1,\n",
    "}\n",
    "\n",
    "model = xgb.train(xgb_params, dtrain, num_boost_round=150)"
   ]
  },
  {
   "cell_type": "markdown",
   "id": "1138c652",
   "metadata": {},
   "source": [
    "# Selecting final model"
   ]
  },
  {
   "cell_type": "code",
   "execution_count": 355,
   "id": "fa9b6eff",
   "metadata": {},
   "outputs": [],
   "source": [
    "X_train, y_train, dv = transform_io(df_train)\n",
    "X_val, y_val, dv = transform_io(df_val)"
   ]
  },
  {
   "cell_type": "code",
   "execution_count": 356,
   "id": "7481058f",
   "metadata": {},
   "outputs": [
    {
     "name": "stdout",
     "output_type": "stream",
     "text": [
      "0.8157204648179566\n"
     ]
    }
   ],
   "source": [
    "#logistic regression\n",
    "\n",
    "def train(X_train, y_train, C=1.0):\n",
    "\n",
    "    model = LogisticRegression(solver='liblinear', C=C, max_iter=1000)\n",
    "    model.fit(X_train, y_train)\n",
    "\n",
    "    return dv, model\n",
    "\n",
    "def predict(X, dv, model):\n",
    "    y_pred = model.predict_proba(X)[:, 1]\n",
    "\n",
    "    return y_pred\n",
    "\n",
    "\n",
    "dv, model = train(X_train, y_train, C=0.5)\n",
    "y_pred = predict(X_val, dv, model)\n",
    "\n",
    "auc = roc_auc_score(y_val, y_pred)\n",
    "print(auc)\n"
   ]
  },
  {
   "cell_type": "code",
   "execution_count": 357,
   "id": "2a7a4252",
   "metadata": {},
   "outputs": [
    {
     "name": "stdout",
     "output_type": "stream",
     "text": [
      "0.8178933316468744\n"
     ]
    }
   ],
   "source": [
    "#Random forest\n",
    "\n",
    "rf = RandomForestClassifier(n_estimators=100,\n",
    "                            max_depth=10,\n",
    "                            min_samples_leaf=5,\n",
    "                            random_state=1)\n",
    "rf.fit(X_train, y_train)\n",
    "y_pred = rf.predict_proba(X_val)[:, 1]\n",
    "print( roc_auc_score(y_val, y_pred))"
   ]
  },
  {
   "cell_type": "code",
   "execution_count": 358,
   "id": "eb6b97ad",
   "metadata": {},
   "outputs": [
    {
     "name": "stdout",
     "output_type": "stream",
     "text": [
      "['Age' 'BMI' 'DiffWalk' 'Education' 'GenHlth' 'HeartDiseaseorAttack'\n",
      " 'HighBP' 'HighChol' 'Income' 'PhysHlth']\n"
     ]
    },
    {
     "data": {
      "text/plain": [
       "0.8205775707390541"
      ]
     },
     "execution_count": 358,
     "metadata": {},
     "output_type": "execute_result"
    }
   ],
   "source": [
    "#Xg boost\n",
    "X_train, y_train, dv = transform_io(df_train)\n",
    "X_val, y_val, dv = transform_io(df_val)\n",
    "features = dv.get_feature_names_out()\n",
    "print(features)\n",
    "dtrain = xgb.DMatrix(X_train, label=y_train, feature_names= list(features))\n",
    "dval = xgb.DMatrix(X_val, label=y_val, feature_names=list(features))\n",
    "\n",
    "xgb_params = {\n",
    "    'eta': 0.08, \n",
    "    'max_depth': 3,\n",
    "    'min_child_weight': 10,\n",
    "\n",
    "    'objective': 'binary:logistic',\n",
    "    'eval_metric': 'auc',\n",
    "\n",
    "    'nthread': 8,\n",
    "    'seed': 1,\n",
    "    'verbosity': 1,\n",
    "}\n",
    "\n",
    "model = xgb.train(xgb_params, dtrain, num_boost_round=150)\n",
    "y_pred = model.predict(dval)\n",
    "roc_auc_score(y_val, y_pred)"
   ]
  },
  {
   "cell_type": "markdown",
   "id": "094d6dd8",
   "metadata": {},
   "source": [
    "Selected Xg boost"
   ]
  },
  {
   "cell_type": "markdown",
   "id": "2e988b72",
   "metadata": {},
   "source": [
    "# Final Model (Xgboost) testing"
   ]
  },
  {
   "cell_type": "code",
   "execution_count": 361,
   "id": "aa2ce941",
   "metadata": {},
   "outputs": [
    {
     "data": {
      "text/plain": [
       "0.8133283283511412"
      ]
     },
     "execution_count": 361,
     "metadata": {},
     "output_type": "execute_result"
    }
   ],
   "source": [
    "X_full_train, y_full_train, dv = transform_io(df_full_train)\n",
    "X_test, y_test, dv = transform_io(df_test)\n",
    "features = dv.get_feature_names_out()\n",
    "dtrain = xgb.DMatrix(X_full_train, label=y_full_train, feature_names= list(features))\n",
    "dtest = xgb.DMatrix(X_test, label=y_test, feature_names=list(features))\n",
    "\n",
    "xgb_params = {\n",
    "    'eta': 0.08, \n",
    "    'max_depth': 3,\n",
    "    'min_child_weight': 10,\n",
    "\n",
    "    'objective': 'binary:logistic',\n",
    "    'eval_metric': 'auc',\n",
    "\n",
    "    'nthread': 8,\n",
    "    'seed': 1,\n",
    "    'verbosity': 1,\n",
    "}\n",
    "\n",
    "model = xgb.train(xgb_params, dtrain, num_boost_round=150)\n",
    "y_pred = model.predict(dtest)\n",
    "roc_auc_score(y_test, y_pred)"
   ]
  }
 ],
 "metadata": {
  "kernelspec": {
   "display_name": "Python 3 (ipykernel)",
   "language": "python",
   "name": "python3"
  },
  "language_info": {
   "codemirror_mode": {
    "name": "ipython",
    "version": 3
   },
   "file_extension": ".py",
   "mimetype": "text/x-python",
   "name": "python",
   "nbconvert_exporter": "python",
   "pygments_lexer": "ipython3",
   "version": "3.10.13"
  }
 },
 "nbformat": 4,
 "nbformat_minor": 5
}
